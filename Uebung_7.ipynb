{
 "cells": [
  {
   "cell_type": "markdown",
   "id": "ffd09f0e",
   "metadata": {},
   "source": [
    "## Exercise Sheet 7\n",
    "\n",
    "### Name - Matrikelnummer:\n",
    "1. Pham, Ngoc Anh Trung - 7176267 <br>\n",
    "2. Viktor Vironski - 4330455 <br>\n",
    "3. Andy Disser - 5984875 <br>\n",
    "\n"
   ]
  },
  {
   "cell_type": "code",
   "execution_count": 105,
   "id": "14ac51c4",
   "metadata": {},
   "outputs": [],
   "source": [
    "import numpy as np\n",
    "import matplotlib.pyplot as plt"
   ]
  },
  {
   "cell_type": "code",
   "execution_count": 7,
   "id": "716fdf62",
   "metadata": {},
   "outputs": [
    {
     "data": {
      "text/plain": [
       "(150, 3)"
      ]
     },
     "execution_count": 7,
     "metadata": {},
     "output_type": "execute_result"
    }
   ],
   "source": [
    "# load data set\n",
    "data = np.loadtxt(\"./fisher_iris_shuffled.txt\")\n",
    "# data.shape"
   ]
  },
  {
   "cell_type": "markdown",
   "id": "ef6098a2",
   "metadata": {},
   "source": [
    "### 1) center and standardize the data"
   ]
  },
  {
   "cell_type": "code",
   "execution_count": 17,
   "id": "3ec0989c",
   "metadata": {},
   "outputs": [],
   "source": [
    "# calculate mean\n",
    "mean = np.mean(data, axis=0)\n",
    "\n",
    "# calculate std\n",
    "std = np.std(data, axis=0)\n",
    "# print(std)\n",
    "\n",
    "# center the data (subtract mean)\n",
    "centered = data - mean\n",
    "# print(centered)\n",
    "\n",
    "# standardize (divide by standard deviation)\n",
    "standardized = centered / std\n",
    "# print(standardized)"
   ]
  },
  {
   "cell_type": "markdown",
   "id": "38dd7338",
   "metadata": {},
   "source": [
    "### 2) compute the covariance matrix"
   ]
  },
  {
   "cell_type": "code",
   "execution_count": 107,
   "id": "f034f6b3",
   "metadata": {},
   "outputs": [
    {
     "name": "stdout",
     "output_type": "stream",
     "text": [
      "[[ 1.         -0.10936925  0.87175416]\n",
      " [-0.10936925  1.         -0.4205161 ]\n",
      " [ 0.87175416 -0.4205161   1.        ]]\n"
     ]
    }
   ],
   "source": [
    "# compute the covariance matrix of standardized\n",
    "cov_matrix = np.matmul(standardized.T,standardized) / len(data)\n",
    "print(cov_matrix)"
   ]
  },
  {
   "cell_type": "markdown",
   "id": "fa07e5b7",
   "metadata": {},
   "source": [
    "### 3) compute the principal components as the eigenvectors of the covariance matrix"
   ]
  },
  {
   "cell_type": "code",
   "execution_count": 108,
   "id": "2edb532c",
   "metadata": {},
   "outputs": [],
   "source": [
    "eigenvalues, eigenvectors = np.linalg.eig(cov_matrix)"
   ]
  },
  {
   "cell_type": "code",
   "execution_count": 109,
   "id": "b132a6e3",
   "metadata": {},
   "outputs": [
    {
     "data": {
      "text/plain": [
       "array([2.01382631, 0.07134297, 0.91483072])"
      ]
     },
     "execution_count": 109,
     "metadata": {},
     "output_type": "execute_result"
    }
   ],
   "source": [
    "eigenvalues"
   ]
  },
  {
   "cell_type": "code",
   "execution_count": 110,
   "id": "aa2c8a45",
   "metadata": {},
   "outputs": [
    {
     "data": {
      "text/plain": [
       "array([[-0.63137983,  0.64685642,  0.42771052],\n",
       "       [ 0.35424227, -0.25005463,  0.90110216],\n",
       "       [-0.6898347 , -0.72045087,  0.07126444]])"
      ]
     },
     "execution_count": 110,
     "metadata": {},
     "output_type": "execute_result"
    }
   ],
   "source": [
    "eigenvectors"
   ]
  },
  {
   "cell_type": "markdown",
   "id": "d50ec45f",
   "metadata": {},
   "source": [
    "### What can the eigenvalues tell you about the structure of the data?\n",
    "\n",
    "The eigenvectors of the larges eigenvalues explain the data the best. Therefore the eigenvector of the larges eigenvalue is PC1, the one with the second largest value is PC2 and so on.\n",
    "\n",
    "<br><br>"
   ]
  },
  {
   "cell_type": "markdown",
   "id": "849e0ed4",
   "metadata": {},
   "source": [
    "### 4) Plot the projection of the data on all three possible combinations of eigenvectors"
   ]
  },
  {
   "cell_type": "code",
   "execution_count": null,
   "id": "6e131714",
   "metadata": {},
   "outputs": [],
   "source": [
    "# T = B * V\n",
    "t = np.matmul(standardized, )"
   ]
  },
  {
   "cell_type": "code",
   "execution_count": 117,
   "id": "2ebb840e",
   "metadata": {},
   "outputs": [
    {
     "name": "stdout",
     "output_type": "stream",
     "text": [
      "b_combi: \n",
      "[[[0 1]\n",
      "  [0 1]\n",
      "  [0 1]]\n",
      "\n",
      " [[1 2]\n",
      "  [1 2]\n",
      "  [1 2]]\n",
      "\n",
      " [[0 2]\n",
      "  [0 2]\n",
      "  [0 2]]]\n",
      "b_normdata: \n",
      "[[[ 1.15917263  0.33784833  1.21768427]\n",
      "  [-0.41600969 -1.05056946  0.36469871]\n",
      "  [-0.17367395 -1.05056946 -0.14709262]\n",
      "  ...\n",
      "  [-0.05250608 -0.58776353  0.76275864]\n",
      "  [ 0.55333328 -1.28197243  0.70589294]\n",
      "  [ 1.40150837  0.33784833  0.53529583]]\n",
      "\n",
      " [[ 1.15917263  0.33784833  1.21768427]\n",
      "  [-0.41600969 -1.05056946  0.36469871]\n",
      "  [-0.17367395 -1.05056946 -0.14709262]\n",
      "  ...\n",
      "  [-0.05250608 -0.58776353  0.76275864]\n",
      "  [ 0.55333328 -1.28197243  0.70589294]\n",
      "  [ 1.40150837  0.33784833  0.53529583]]\n",
      "\n",
      " [[ 1.15917263  0.33784833  1.21768427]\n",
      "  [-0.41600969 -1.05056946  0.36469871]\n",
      "  [-0.17367395 -1.05056946 -0.14709262]\n",
      "  ...\n",
      "  [-0.05250608 -0.58776353  0.76275864]\n",
      "  [ 0.55333328 -1.28197243  0.70589294]\n",
      "  [ 1.40150837  0.33784833  0.53529583]]]\n",
      "b_normdata.shape: (3, 150, 3)\n",
      "b_eigenvectors: \n",
      "[[[-0.63137983  0.64685642  0.42771052]\n",
      "  [ 0.35424227 -0.25005463  0.90110216]\n",
      "  [-0.6898347  -0.72045087  0.07126444]]\n",
      "\n",
      " [[-0.63137983  0.64685642  0.42771052]\n",
      "  [ 0.35424227 -0.25005463  0.90110216]\n",
      "  [-0.6898347  -0.72045087  0.07126444]]\n",
      "\n",
      " [[-0.63137983  0.64685642  0.42771052]\n",
      "  [ 0.35424227 -0.25005463  0.90110216]\n",
      "  [-0.6898347  -0.72045087  0.07126444]]]\n"
     ]
    },
    {
     "data": {
      "image/png": "[encoded data removed]",
      "text/plain": [
       "<Figure size 1080x360 with 3 Axes>"
      ]
     },
     "metadata": {
      "needs_background": "light"
     },
     "output_type": "display_data"
    }
   ],
   "source": [
    "# all 3 possible combination of 2 eigenvectors\n",
    "combi = np.array([[0, 1], [1, 2], [0, 2]])\n",
    "\n",
    "# Broadcast to the suitable shapes\n",
    "b_combi = np.broadcast_to(combi[:, np.newaxis, :], (3, 3, 2))\n",
    "print(f\"b_combi: \\n{b_combi}\")\n",
    "b_normdata = np.broadcast_to(standardized[np.newaxis, :, :], (3, 150, 3))\n",
    "print(f\"b_normdata: \\n{b_normdata}\")\n",
    "print(f\"b_normdata.shape: {b_normdata.shape}\")\n",
    "b_eigenvectors = np.broadcast_to(eigenvectors[np.newaxis, :, :], (3, 3, 3))\n",
    "print(f\"b_eigenvectors: \\n{b_eigenvectors}\")\n",
    "\n",
    "# an array of shape 3x3x2, each (3x2) subarray represents a subset of eigenvectors of size 2\n",
    "subsets_of_eigenvec = np.take_along_axis(b_eigenvectors, b_combi, axis=2)\n",
    "\n",
    "# all 3 different projections, store in a single array with shape 3x150x2\n",
    "projections = np.matmul(standardized, subsets_of_eigenvec)\n",
    "\n",
    "f3, axarr = plt.subplots(1,3, figsize=(15,5))        # Define the plot axes.\n",
    "axarr[0].scatter(projections[0, :, 0], projections[0, :, 1], s=10)      # Define the first plot.\n",
    "axarr[0].set_xlabel(\"PC1\")\n",
    "axarr[0].set_ylabel(\"PC3\")\n",
    "axarr[0].set_title(\"Projection on 1. and 2. eigenvectors\")\n",
    "\n",
    "axarr[1].scatter(projections[1, :, 0], projections[1, :, 1], s=10, color='orange')      # Define the first plot.\n",
    "axarr[1].set_xlabel(\"PC3\")\n",
    "axarr[1].set_ylabel(\"PC2\")\n",
    "axarr[1].set_title(\"Projection on 2. and 3. eigenvectors\")\n",
    "\n",
    "axarr[2].scatter(projections[2, :, 0], projections[2, :, 1], s=10, color='green')      # Define the first plot.\n",
    "axarr[2].set_xlabel(\"PC1\")\n",
    "axarr[2].set_ylabel(\"PC2\")\n",
    "axarr[2].set_title(\"Projection on 1. and 3. eigenvectors\")\n",
    "\n",
    "plt.show()"
   ]
  },
  {
   "cell_type": "code",
   "execution_count": null,
   "id": "73448530",
   "metadata": {},
   "outputs": [],
   "source": []
  }
 ],
 "metadata": {
  "kernelspec": {
   "display_name": "Python 3 (ipykernel)",
   "language": "python",
   "name": "python3"
  },
  "language_info": {
   "codemirror_mode": {
    "name": "ipython",
    "version": 3
   },
   "file_extension": ".py",
   "mimetype": "text/x-python",
   "name": "python",
   "nbconvert_exporter": "python",
   "pygments_lexer": "ipython3",
   "version": "3.10.4"
  }
 },
 "nbformat": 4,
 "nbformat_minor": 5
}
