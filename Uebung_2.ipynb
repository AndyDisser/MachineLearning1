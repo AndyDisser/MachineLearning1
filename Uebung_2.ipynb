{
 "cells": [
  {
   "cell_type": "markdown",
   "id": "4fc485c2",
   "metadata": {},
   "source": [
    "Name - Matrikelnummer \n",
    "1) Pham, Ngoc Anh Trung - 7176267\n",
    "2) Viktor Vironski - 4330455\n",
    "3) Andy Disser - 5984875"
   ]
  },
  {
   "cell_type": "code",
   "execution_count": 1,
   "id": "1ea6dda8",
   "metadata": {},
   "outputs": [],
   "source": [
    "import numpy as np\n",
    "import random\n",
    "import pandas as pd\n",
    "from sklearn import datasets\n",
    "import matplotlib"
   ]
  },
  {
   "cell_type": "markdown",
   "id": "d45b1d09",
   "metadata": {},
   "source": [
    "# Aufgabe 1"
   ]
  },
  {
   "cell_type": "markdown",
   "id": "6aa5f832",
   "metadata": {},
   "source": [
    "### 1.1)"
   ]
  },
  {
   "cell_type": "code",
   "execution_count": 2,
   "id": "4239b5ca",
   "metadata": {},
   "outputs": [],
   "source": [
    "def kmeans(data, ncluster):\n",
    "    \"\"\"\n",
    "    Implements k-means algorithm.\n",
    "    \n",
    "    Input:   Data as a numpy array\n",
    "             number of clusters\n",
    "             \n",
    "    Output:  cluster index for each datapoint and the centroids\n",
    "    \"\"\"\n",
    "    \n",
    "    # select three random point from the data set as initial centroids\n",
    "    # replace is set to false, since it does not make any sense to have two identical centroids\n",
    "    index_centroids = np.random.choice(len(data), size=ncluster, replace=False)\n",
    "    centroids = data[index_centroids, :]\n",
    "    cluster_array = np.zeros(len(data))\n",
    "    # repeat:\n",
    "    while True:\n",
    "        \n",
    "        # calculate the distance of each data point to the centroids\n",
    "        for i, feature in enumerate(data):\n",
    "            # can I calculate the distance in one step with vectors?\n",
    "            distances = np.zeros(ncluster)\n",
    "            for j, centroid in enumerate(centroids):\n",
    "                # calculating the euclidean distance\n",
    "                dist = np.linalg.norm(feature - centroid)\n",
    "                distances[j] = dist\n",
    "            \n",
    "            # index of the cluster the feature belongs to\n",
    "            cluster_array[i] = np.argmin(distances)\n",
    "            \n",
    "        new_centroids = pd.DataFrame(data).groupby(by=cluster_array).mean().values\n",
    "        \n",
    "        if (centroids == new_centroids).all():\n",
    "            break\n",
    "        else:\n",
    "            centroids = new_centroids\n",
    "            \n",
    "    return centroids, cluster_array"
   ]
  },
  {
   "cell_type": "code",
   "execution_count": 3,
   "id": "5c606e7b",
   "metadata": {
    "scrolled": true
   },
   "outputs": [],
   "source": [
    "iris = datasets.load_iris()"
   ]
  },
  {
   "cell_type": "code",
   "execution_count": 4,
   "id": "022e5c25",
   "metadata": {},
   "outputs": [],
   "source": [
    "centroids, cluster_array = kmeans(iris.data, 3)"
   ]
  },
  {
   "cell_type": "code",
   "execution_count": 5,
   "id": "b20a27f1",
   "metadata": {
    "scrolled": true
   },
   "outputs": [
    {
     "data": {
      "text/plain": [
       "array([[5.006     , 3.428     , 1.462     , 0.246     ],\n",
       "       [6.85384615, 3.07692308, 5.71538462, 2.05384615],\n",
       "       [5.88360656, 2.74098361, 4.38852459, 1.43442623]])"
      ]
     },
     "execution_count": 5,
     "metadata": {},
     "output_type": "execute_result"
    }
   ],
   "source": [
    "centroids"
   ]
  },
  {
   "cell_type": "code",
   "execution_count": 6,
   "id": "72c7c96e",
   "metadata": {
    "scrolled": true
   },
   "outputs": [
    {
     "data": {
      "text/plain": [
       "array([0., 0., 0., 0., 0., 0., 0., 0., 0., 0., 0., 0., 0., 0., 0., 0., 0.,\n",
       "       0., 0., 0., 0., 0., 0., 0., 0., 0., 0., 0., 0., 0., 0., 0., 0., 0.,\n",
       "       0., 0., 0., 0., 0., 0., 0., 0., 0., 0., 0., 0., 0., 0., 0., 0., 1.,\n",
       "       2., 1., 2., 2., 2., 2., 2., 2., 2., 2., 2., 2., 2., 2., 2., 2., 2.,\n",
       "       2., 2., 2., 2., 2., 2., 2., 2., 2., 1., 2., 2., 2., 2., 2., 2., 2.,\n",
       "       2., 2., 2., 2., 2., 2., 2., 2., 2., 2., 2., 2., 2., 2., 2., 1., 2.,\n",
       "       1., 1., 1., 1., 2., 1., 1., 1., 1., 1., 1., 2., 2., 1., 1., 1., 1.,\n",
       "       2., 1., 2., 1., 2., 1., 1., 2., 2., 1., 1., 1., 1., 1., 2., 1., 1.,\n",
       "       1., 1., 2., 1., 1., 1., 2., 1., 1., 1., 2., 1., 1., 2.])"
      ]
     },
     "execution_count": 6,
     "metadata": {},
     "output_type": "execute_result"
    }
   ],
   "source": [
    "cluster_array"
   ]
  },
  {
   "cell_type": "markdown",
   "id": "889ec033",
   "metadata": {},
   "source": [
    "### 1.2)"
   ]
  },
  {
   "cell_type": "code",
   "execution_count": 36,
   "id": "21f90f9a",
   "metadata": {
    "scrolled": true
   },
   "outputs": [],
   "source": [
    "def mean_dist(centroids, cluster_array, data):\n",
    "    \"\"\"\n",
    "    Calculating the average distance of points to there nearest centroid\n",
    "    \n",
    "    Input:  1D np array with all the centroids\n",
    "            1D np array with the cluster each point from data belongs to\n",
    "            2D np array containing the data\n",
    "            \n",
    "    Output: average distance of all points to there closest centroid\n",
    "    \"\"\"\n",
    "    \n",
    "    # np.average is when you assign different weights to values\n",
    "    # np.mean calculates the average with identical weights\n",
    "    # need an 3d array which contains all the distances \n",
    "\n",
    "    sum_dist = 0\n",
    "    for i, feature in enumerate(data):\n",
    "        sum_dist += np.linalg.norm(data[i] - centroids[int(cluster_array[i])])\n",
    "        \n",
    "    return sum_dist / len(data)\n",
    "        \n",
    "        "
   ]
  },
  {
   "cell_type": "code",
   "execution_count": null,
   "id": "30ef7a7a",
   "metadata": {},
   "outputs": [],
   "source": [
    "def calculte_mean_dists(data, min_clusters=1, max_clusters=10):\n",
    "    \"\"\"\n",
    "    Calculates the mean distance of all points to there nearest cluster and\n",
    "    plots the results from min_clusters until max_clusters in a line graph.\n",
    "    \n",
    "    Input:    Dataset\n",
    "    \n",
    "    Output:   Line graph with the mean distances for each numer of clusters\n",
    "    \"\"\"\n",
    "    \n",
    "    "
   ]
  },
  {
   "cell_type": "code",
   "execution_count": 37,
   "id": "9ce980ec",
   "metadata": {},
   "outputs": [
    {
     "data": {
      "text/plain": [
       "array([[5.006     , 3.428     , 1.462     , 0.246     ],\n",
       "       [6.85384615, 3.07692308, 5.71538462, 2.05384615],\n",
       "       [5.88360656, 2.74098361, 4.38852459, 1.43442623]])"
      ]
     },
     "execution_count": 37,
     "metadata": {},
     "output_type": "execute_result"
    }
   ],
   "source": [
    "centroids"
   ]
  },
  {
   "cell_type": "code",
   "execution_count": 38,
   "id": "ec00978f",
   "metadata": {},
   "outputs": [
    {
     "data": {
      "text/plain": [
       "array([0., 0., 0., 0., 0., 0., 0., 0., 0., 0., 0., 0., 0., 0., 0., 0., 0.,\n",
       "       0., 0., 0., 0., 0., 0., 0., 0., 0., 0., 0., 0., 0., 0., 0., 0., 0.,\n",
       "       0., 0., 0., 0., 0., 0., 0., 0., 0., 0., 0., 0., 0., 0., 0., 0., 1.,\n",
       "       2., 1., 2., 2., 2., 2., 2., 2., 2., 2., 2., 2., 2., 2., 2., 2., 2.,\n",
       "       2., 2., 2., 2., 2., 2., 2., 2., 2., 1., 2., 2., 2., 2., 2., 2., 2.,\n",
       "       2., 2., 2., 2., 2., 2., 2., 2., 2., 2., 2., 2., 2., 2., 2., 1., 2.,\n",
       "       1., 1., 1., 1., 2., 1., 1., 1., 1., 1., 1., 2., 2., 1., 1., 1., 1.,\n",
       "       2., 1., 2., 1., 2., 1., 1., 2., 2., 1., 1., 1., 1., 1., 2., 1., 1.,\n",
       "       1., 1., 2., 1., 1., 1., 2., 1., 1., 1., 2., 1., 1., 2.])"
      ]
     },
     "execution_count": 38,
     "metadata": {},
     "output_type": "execute_result"
    }
   ],
   "source": [
    "cluster_array"
   ]
  },
  {
   "cell_type": "code",
   "execution_count": 41,
   "id": "438936bf",
   "metadata": {
    "scrolled": true
   },
   "outputs": [
    {
     "data": {
      "text/plain": [
       "0.6481657935591552"
      ]
     },
     "execution_count": 41,
     "metadata": {},
     "output_type": "execute_result"
    }
   ],
   "source": [
    "mean_dist(centroids, cluster_array, iris.data)"
   ]
  }
 ],
 "metadata": {
  "kernelspec": {
   "display_name": "Python 3 (ipykernel)",
   "language": "python",
   "name": "python3"
  },
  "language_info": {
   "codemirror_mode": {
    "name": "ipython",
    "version": 3
   },
   "file_extension": ".py",
   "mimetype": "text/x-python",
   "name": "python",
   "nbconvert_exporter": "python",
   "pygments_lexer": "ipython3",
   "version": "3.7.13"
  }
 },
 "nbformat": 4,
 "nbformat_minor": 5
}
