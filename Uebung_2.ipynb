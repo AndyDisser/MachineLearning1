{
 "cells": [
  {
   "cell_type": "markdown",
   "id": "4fc485c2",
   "metadata": {},
   "source": [
    "Name - Matrikelnummer \n",
    "1) Pham, Ngoc Anh Trung - 7176267\n",
    "2) Viktor Vironski - 4330455\n",
    "3) Andy Disser - 5984875"
   ]
  },
  {
   "cell_type": "code",
   "execution_count": 1,
   "id": "1ea6dda8",
   "metadata": {},
   "outputs": [],
   "source": [
    "import numpy as np\n",
    "import random\n",
    "import pandas as pd\n",
    "from sklearn import datasets\n",
    "import matplotlib"
   ]
  },
  {
   "cell_type": "markdown",
   "id": "d45b1d09",
   "metadata": {},
   "source": [
    "# Aufgabe 1"
   ]
  },
  {
   "cell_type": "markdown",
   "id": "6aa5f832",
   "metadata": {},
   "source": [
    "### 1.1)"
   ]
  },
  {
   "cell_type": "code",
   "execution_count": 2,
   "id": "4239b5ca",
   "metadata": {},
   "outputs": [],
   "source": [
    "def kmeans(data, ncluster):\n",
    "    \"\"\"\n",
    "    Implements k-means algorithm.\n",
    "    \n",
    "    Input:   Data as a numpy array\n",
    "             number of clusters\n",
    "             \n",
    "    Output:  cluster index for each datapoint and the centroids\n",
    "    \"\"\"\n",
    "    \n",
    "    # select three random point from the data set as initial centroids\n",
    "    # replace is set to false, since it does not make any sense to have two identical centroids\n",
    "    index_centroids = np.random.choice(len(data), size=ncluster, replace=False)\n",
    "    centroids = data[index_centroids, :]\n",
    "    cluster_array = np.zeros(len(data))\n",
    "    # repeat:\n",
    "    while True:\n",
    "        \n",
    "        # calculate the distance of each data point to the centroids\n",
    "        for i, feature in enumerate(data):\n",
    "            # can I calculate the distance in one step with vectors?\n",
    "            distances = np.zeros(ncluster)\n",
    "            for j, centroid in enumerate(centroids):\n",
    "                # calculating the euclidean distance\n",
    "                dist = np.linalg.norm(feature - centroid)\n",
    "                distances[j] = dist\n",
    "            \n",
    "            # index of the cluster the feature belongs to\n",
    "            cluster_array[i] = np.argmin(distances)\n",
    "            \n",
    "        new_centroids = pd.DataFrame(data).groupby(by=cluster_array).mean().values\n",
    "        \n",
    "        if (centroids == new_centroids).all():\n",
    "            break\n",
    "        else:\n",
    "            centroids = new_centroids\n",
    "            \n",
    "    return centroids, cluster_array"
   ]
  },
  {
   "cell_type": "code",
   "execution_count": 3,
   "id": "5c606e7b",
   "metadata": {
    "scrolled": true
   },
   "outputs": [],
   "source": [
    "iris = datasets.load_iris()"
   ]
  },
  {
   "cell_type": "code",
   "execution_count": 4,
   "id": "022e5c25",
   "metadata": {},
   "outputs": [],
   "source": [
    "centroids, cluster_array = kmeans(iris.data, 3)"
   ]
  },
  {
   "cell_type": "code",
   "execution_count": 5,
   "id": "b20a27f1",
   "metadata": {
    "scrolled": true
   },
   "outputs": [
    {
     "data": {
      "text/plain": [
       "array([[5.006     , 3.428     , 1.462     , 0.246     ],\n",
       "       [6.85384615, 3.07692308, 5.71538462, 2.05384615],\n",
       "       [5.88360656, 2.74098361, 4.38852459, 1.43442623]])"
      ]
     },
     "execution_count": 5,
     "metadata": {},
     "output_type": "execute_result"
    }
   ],
   "source": [
    "centroids"
   ]
  },
  {
   "cell_type": "code",
   "execution_count": 6,
   "id": "72c7c96e",
   "metadata": {
    "scrolled": true
   },
   "outputs": [
    {
     "data": {
      "text/plain": [
       "array([0., 0., 0., 0., 0., 0., 0., 0., 0., 0., 0., 0., 0., 0., 0., 0., 0.,\n",
       "       0., 0., 0., 0., 0., 0., 0., 0., 0., 0., 0., 0., 0., 0., 0., 0., 0.,\n",
       "       0., 0., 0., 0., 0., 0., 0., 0., 0., 0., 0., 0., 0., 0., 0., 0., 1.,\n",
       "       2., 1., 2., 2., 2., 2., 2., 2., 2., 2., 2., 2., 2., 2., 2., 2., 2.,\n",
       "       2., 2., 2., 2., 2., 2., 2., 2., 2., 1., 2., 2., 2., 2., 2., 2., 2.,\n",
       "       2., 2., 2., 2., 2., 2., 2., 2., 2., 2., 2., 2., 2., 2., 2., 1., 2.,\n",
       "       1., 1., 1., 1., 2., 1., 1., 1., 1., 1., 1., 2., 2., 1., 1., 1., 1.,\n",
       "       2., 1., 2., 1., 2., 1., 1., 2., 2., 1., 1., 1., 1., 1., 2., 1., 1.,\n",
       "       1., 1., 2., 1., 1., 1., 2., 1., 1., 1., 2., 1., 1., 2.])"
      ]
     },
     "execution_count": 6,
     "metadata": {},
     "output_type": "execute_result"
    }
   ],
   "source": [
    "cluster_array"
   ]
  },
  {
   "cell_type": "markdown",
   "id": "889ec033",
   "metadata": {},
   "source": [
    "### 1.2)"
   ]
  },
  {
   "cell_type": "code",
   "execution_count": null,
   "id": "21f90f9a",
   "metadata": {
    "scrolled": true
   },
   "outputs": [],
   "source": [
    "def mean_dist(centroids, cluster_array, data):\n",
    "    \"\"\"\n",
    "    Calculating the average distance of points to there nearest centroid\n",
    "    \n",
    "    Input:  1D np array with all the centroids\n",
    "            1D np array with the cluster each point from data belongs to\n",
    "            2D np array containing the data\n",
    "            \n",
    "    Output: average distance of all points to there closest centroid\n",
    "    \"\"\"\n",
    "    \n",
    "    # np.average is when you assign different weights to values\n",
    "    # np.mean calculates the average with identical weights\n",
    "    # need an 3d array which contains all the distances      \n",
    "    for i, feature in enumerate(data):\n",
    "        \n",
    "        \n",
    "        "
   ]
  },
  {
   "cell_type": "code",
   "execution_count": 8,
   "id": "43c945ba",
   "metadata": {},
   "outputs": [
    {
     "data": {
      "text/plain": [
       "array([5.006, 3.428, 1.462, 0.246])"
      ]
     },
     "execution_count": 8,
     "metadata": {},
     "output_type": "execute_result"
    }
   ],
   "source": [
    "centroids[0]"
   ]
  },
  {
   "cell_type": "code",
   "execution_count": 10,
   "id": "283897ca",
   "metadata": {},
   "outputs": [
    {
     "data": {
      "text/plain": [
       "array([5.1, 3.5, 1.4, 0.2])"
      ]
     },
     "execution_count": 10,
     "metadata": {},
     "output_type": "execute_result"
    }
   ],
   "source": [
    "iris.data[0]"
   ]
  },
  {
   "cell_type": "code",
   "execution_count": 11,
   "id": "b686896a",
   "metadata": {},
   "outputs": [
    {
     "data": {
      "text/plain": [
       "array([ 0.094,  0.072, -0.062, -0.046])"
      ]
     },
     "execution_count": 11,
     "metadata": {},
     "output_type": "execute_result"
    }
   ],
   "source": [
    "iris.data[0] - centroids[0]"
   ]
  },
  {
   "cell_type": "code",
   "execution_count": 12,
   "id": "aecd0551",
   "metadata": {},
   "outputs": [
    {
     "data": {
      "text/plain": [
       "array([0.008836, 0.005184, 0.003844, 0.002116])"
      ]
     },
     "execution_count": 12,
     "metadata": {},
     "output_type": "execute_result"
    }
   ],
   "source": [
    "np.square(iris.data[0] - centroids[0])"
   ]
  },
  {
   "cell_type": "code",
   "execution_count": 13,
   "id": "0e254da5",
   "metadata": {},
   "outputs": [
    {
     "data": {
      "text/plain": [
       "array([0.094, 0.072, 0.062, 0.046])"
      ]
     },
     "execution_count": 13,
     "metadata": {},
     "output_type": "execute_result"
    }
   ],
   "source": [
    "np.sqrt(np.square(iris.data[0] - centroids[0]))"
   ]
  },
  {
   "cell_type": "code",
   "execution_count": 15,
   "id": "c577d4cf",
   "metadata": {},
   "outputs": [
    {
     "data": {
      "text/plain": [
       "0.14135062787267663"
      ]
     },
     "execution_count": 15,
     "metadata": {},
     "output_type": "execute_result"
    }
   ],
   "source": [
    "np.linalg.norm(iris.data[0] - centroids[0])"
   ]
  },
  {
   "cell_type": "code",
   "execution_count": 16,
   "id": "30956a5b",
   "metadata": {},
   "outputs": [
    {
     "data": {
      "text/plain": [
       "0.14135062787267663"
      ]
     },
     "execution_count": 16,
     "metadata": {},
     "output_type": "execute_result"
    }
   ],
   "source": [
    "np.sqrt(np.sum(np.square(iris.data[0] - centroids[0])))"
   ]
  },
  {
   "cell_type": "code",
   "execution_count": null,
   "id": "d9409d3e",
   "metadata": {},
   "outputs": [],
   "source": [
    "centroids_1, cluster_array_1 = kmeans(iris.data, 1)"
   ]
  },
  {
   "cell_type": "code",
   "execution_count": null,
   "id": "e6a0d688",
   "metadata": {},
   "outputs": [],
   "source": [
    "centroids_2, cluster_array_2 = kmeans(iris.data, 2)"
   ]
  },
  {
   "cell_type": "code",
   "execution_count": null,
   "id": "02395ba2",
   "metadata": {},
   "outputs": [],
   "source": [
    "centroids_3, cluster_array_3 = kmeans(iris.data, 3)"
   ]
  },
  {
   "cell_type": "code",
   "execution_count": null,
   "id": "54d4b945",
   "metadata": {},
   "outputs": [],
   "source": [
    "centroids_4, cluster_array_4 = kmeans(iris.data, 4)"
   ]
  },
  {
   "cell_type": "code",
   "execution_count": null,
   "id": "95bd82cf",
   "metadata": {},
   "outputs": [],
   "source": [
    "centroids_5, cluster_array_5 = kmeans(iris.data, 5)"
   ]
  },
  {
   "cell_type": "code",
   "execution_count": null,
   "id": "8975baf2",
   "metadata": {},
   "outputs": [],
   "source": [
    "centroids_6, cluster_array_6 = kmeans(iris.data, 6)"
   ]
  },
  {
   "cell_type": "code",
   "execution_count": null,
   "id": "4bd0b4ae",
   "metadata": {},
   "outputs": [],
   "source": [
    "centroids_7, cluster_array_7 = kmeans(iris.data, 7)"
   ]
  },
  {
   "cell_type": "code",
   "execution_count": null,
   "id": "fb3b5f47",
   "metadata": {},
   "outputs": [],
   "source": [
    "centroids_8, cluster_array_8 = kmeans(iris.data, 8)"
   ]
  },
  {
   "cell_type": "code",
   "execution_count": null,
   "id": "7a7eafb8",
   "metadata": {},
   "outputs": [],
   "source": [
    "centroids_9, cluster_array_9 = kmeans(iris.data, 9)"
   ]
  },
  {
   "cell_type": "code",
   "execution_count": null,
   "id": "f9c183b7",
   "metadata": {},
   "outputs": [],
   "source": [
    "centroids_10, cluster_array_10 = kmeans(iris.data, 10)"
   ]
  },
  {
   "cell_type": "code",
   "execution_count": null,
   "id": "60723c78",
   "metadata": {},
   "outputs": [],
   "source": []
  },
  {
   "cell_type": "code",
   "execution_count": null,
   "id": "11f2fc83",
   "metadata": {},
   "outputs": [],
   "source": []
  },
  {
   "cell_type": "code",
   "execution_count": null,
   "id": "1c467cf5",
   "metadata": {},
   "outputs": [],
   "source": []
  },
  {
   "cell_type": "code",
   "execution_count": null,
   "id": "f5089204",
   "metadata": {},
   "outputs": [],
   "source": []
  },
  {
   "cell_type": "code",
   "execution_count": null,
   "id": "0877a383",
   "metadata": {},
   "outputs": [],
   "source": []
  },
  {
   "cell_type": "code",
   "execution_count": null,
   "id": "6744a366",
   "metadata": {},
   "outputs": [],
   "source": [
    "arr = np.array([10, 15, 20, 25, 30, 35, 40])\n",
    "\n",
    "print(arr[1:4])"
   ]
  },
  {
   "cell_type": "code",
   "execution_count": null,
   "id": "e90df5dc",
   "metadata": {
    "scrolled": true
   },
   "outputs": [],
   "source": [
    "index_centroids = np.random.choice(len(iris.data), size=3, replace=False)\n",
    "print(index_centroids)\n",
    "centroids = iris.data[index_centroids, :]\n",
    "print(centroids)\n",
    "#print(centroids[:,:-1])"
   ]
  },
  {
   "cell_type": "code",
   "execution_count": null,
   "id": "97333acf",
   "metadata": {},
   "outputs": [],
   "source": [
    "np.take(centroids, [1,2,3,7,11])"
   ]
  },
  {
   "cell_type": "code",
   "execution_count": null,
   "id": "d7091fb7",
   "metadata": {},
   "outputs": [],
   "source": [
    "distances = np.zeros(3)\n",
    "for j, centroid in enumerate(centroids):\n",
    "    dist = np.linalg.norm(iris.data[0] - centroid)\n",
    "    distances[j] = dist\n",
    "    \n",
    "print(distances)"
   ]
  },
  {
   "cell_type": "code",
   "execution_count": null,
   "id": "1e9a453e",
   "metadata": {},
   "outputs": [],
   "source": [
    "np.argmin(distances)"
   ]
  },
  {
   "cell_type": "code",
   "execution_count": null,
   "id": "f100d9b4",
   "metadata": {},
   "outputs": [],
   "source": [
    "iris.data[0]"
   ]
  },
  {
   "cell_type": "code",
   "execution_count": null,
   "id": "8587fc60",
   "metadata": {},
   "outputs": [],
   "source": [
    "((7.2 - 5.1)**2 + (3.2-3.5)**2 + (6-1.4)**2 + (1.8-0.2)**2)**0.5"
   ]
  },
  {
   "cell_type": "code",
   "execution_count": null,
   "id": "884e4084",
   "metadata": {},
   "outputs": [],
   "source": [
    "dist = np.linalg.norm(iris.data[0] - centroids[0])\n",
    "dist"
   ]
  },
  {
   "cell_type": "code",
   "execution_count": null,
   "id": "03aa6769",
   "metadata": {},
   "outputs": [],
   "source": [
    "iris.data.shape\n"
   ]
  },
  {
   "cell_type": "code",
   "execution_count": null,
   "id": "5bd1552a",
   "metadata": {},
   "outputs": [],
   "source": [
    "a = np.array([[1,2],\n",
    "          [3,4]])"
   ]
  },
  {
   "cell_type": "code",
   "execution_count": null,
   "id": "7e3d49fe",
   "metadata": {},
   "outputs": [],
   "source": [
    "np.insert(iris.data, iris.data.shape[-1], 0, axis=1)\n"
   ]
  },
  {
   "cell_type": "code",
   "execution_count": null,
   "id": "f624f4b3",
   "metadata": {},
   "outputs": [],
   "source": [
    "len(iris.data)"
   ]
  },
  {
   "cell_type": "code",
   "execution_count": null,
   "id": "24f2a628",
   "metadata": {},
   "outputs": [],
   "source": [
    "np.random.choice(4, size=4, replace=False)"
   ]
  },
  {
   "cell_type": "code",
   "execution_count": null,
   "id": "9de9516a",
   "metadata": {},
   "outputs": [],
   "source": [
    "for i, sample in enumerate(iris.data):\n",
    "    print(sample)"
   ]
  },
  {
   "cell_type": "code",
   "execution_count": null,
   "id": "bddd4f70",
   "metadata": {},
   "outputs": [],
   "source": [
    "a = iris.data[0]\n",
    "a"
   ]
  },
  {
   "cell_type": "code",
   "execution_count": null,
   "id": "33d79caf",
   "metadata": {},
   "outputs": [],
   "source": [
    "b = iris.data[1:3]\n",
    "b"
   ]
  },
  {
   "cell_type": "code",
   "execution_count": null,
   "id": "d5cf7eb5",
   "metadata": {},
   "outputs": [],
   "source": [
    "np.linalg.norm(a - b)"
   ]
  },
  {
   "cell_type": "code",
   "execution_count": null,
   "id": "bbfa979e",
   "metadata": {},
   "outputs": [],
   "source": [
    "a - b"
   ]
  },
  {
   "cell_type": "code",
   "execution_count": null,
   "id": "403dfd4e",
   "metadata": {},
   "outputs": [],
   "source": []
  },
  {
   "cell_type": "code",
   "execution_count": null,
   "id": "46da5c36",
   "metadata": {},
   "outputs": [],
   "source": []
  },
  {
   "cell_type": "code",
   "execution_count": null,
   "id": "3b7f2fbd",
   "metadata": {},
   "outputs": [],
   "source": []
  }
 ],
 "metadata": {
  "kernelspec": {
   "display_name": "Python 3 (ipykernel)",
   "language": "python",
   "name": "python3"
  },
  "language_info": {
   "codemirror_mode": {
    "name": "ipython",
    "version": 3
   },
   "file_extension": ".py",
   "mimetype": "text/x-python",
   "name": "python",
   "nbconvert_exporter": "python",
   "pygments_lexer": "ipython3",
   "version": "3.7.13"
  }
 },
 "nbformat": 4,
 "nbformat_minor": 5
}
