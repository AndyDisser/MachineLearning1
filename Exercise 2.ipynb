{
 "cells": [
  {
   "cell_type": "markdown",
   "id": "ec531897",
   "metadata": {},
   "source": [
    "# Machine Learning 1 - Exercise Sheet 1\n",
    "\n",
    "## Viktor Vironski (4330455), Andy Disser (5984875), Ngoc Anh Trung Pham (7176267)\n"
   ]
  },
  {
   "cell_type": "markdown",
   "id": "6ddf82da",
   "metadata": {},
   "source": [
    "### Exercise 1 - K-means Clustering\n",
    "\n",
    "### 1."
   ]
  },
  {
   "cell_type": "code",
   "execution_count": 284,
   "id": "1acd21bb",
   "metadata": {},
   "outputs": [
    {
     "data": {
      "text/plain": [
       "(array([[6.9125    , 3.1       , 5.846875  , 2.13125   ],\n",
       "        [5.24285714, 3.66785714, 1.5       , 0.28214286],\n",
       "        [5.52962963, 2.62222222, 3.94074074, 1.21851852],\n",
       "        [6.23658537, 2.85853659, 4.80731707, 1.62195122],\n",
       "        [4.70454545, 3.12272727, 1.41363636, 0.2       ]]),\n",
       " array([1, 4, 4, 4, 1, 1, 4, 1, 4, 4, 1, 4, 4, 4, 1, 1, 1, 1, 1, 1, 1, 1,\n",
       "        4, 1, 4, 4, 1, 1, 1, 4, 4, 1, 1, 1, 4, 4, 1, 1, 4, 1, 1, 4, 4, 1,\n",
       "        1, 4, 1, 4, 1, 4, 3, 3, 3, 2, 3, 2, 3, 2, 3, 2, 2, 2, 2, 3, 2, 3,\n",
       "        3, 2, 3, 2, 3, 2, 3, 3, 3, 3, 3, 3, 3, 2, 2, 2, 2, 3, 2, 3, 3, 3,\n",
       "        2, 2, 2, 3, 2, 2, 2, 2, 2, 3, 2, 2, 0, 3, 0, 0, 0, 0, 2, 0, 0, 0,\n",
       "        3, 3, 0, 3, 3, 0, 0, 0, 0, 3, 0, 3, 0, 3, 0, 0, 3, 3, 0, 0, 0, 0,\n",
       "        0, 3, 3, 0, 0, 0, 3, 0, 0, 0, 3, 0, 0, 0, 3, 3, 0, 3], dtype=int64))"
      ]
     },
     "execution_count": 284,
     "metadata": {},
     "output_type": "execute_result"
    }
   ],
   "source": [
    "from sklearn import datasets\n",
    "import numpy as np\n",
    "\n",
    "# prevent numpy exponential notation on print \n",
    "np.set_printoptions(suppress=True)\n",
    "\n",
    "def kmeans(data, ncluster):\n",
    "    # takes a dataset as input and uses the K-means algorithm to cluster with Euclidean distance the data \n",
    "    # intonclusterclusters and returns the respective cluster index for each data point aswell as the respective\n",
    "    # centroid\n",
    "    \n",
    "    # k-means algorithm                                                          \n",
    "    # 1 specify the number k of clusters to assign                               \n",
    "    # 2 randomly initialize k centroids                                          \n",
    "    # 3 repeat                                                                   \n",
    "    # 4     expectation: assign each point to it's closest centroid              \n",
    "    # 5     maximization: compute the new centroid (mean) of each cluster        \n",
    "    # 6 until centroid positions do not change                                   \n",
    "    \n",
    "    # reshape dataset for broadcasting\n",
    "    data_new = data.reshape(data.shape[0], 1, data.shape[1])\n",
    "    \n",
    "    # choose centroids and fill array to dimentions similar to dataset\n",
    "    centroids = np.full((data.shape[0], ncluster, data.shape[1]), choose_random_centroids(data, ncluster))\n",
    "        \n",
    "    # Calculate Eucledian distances from centroid to sample for each centroid\n",
    "    clusters = np.linalg.norm(data_new - centroids, axis = 2)\n",
    "    \n",
    "    # Recalculate clusters n number of times\n",
    "    for i in range (1, 100):\n",
    "        centroids = np.full((data.shape[0], ncluster, data.shape[1]), calculate_new_centroids(data_new, clusters))\n",
    "        clusters = np.linalg.norm(data_new - centroids, axis = 2)\n",
    "        \n",
    "        \n",
    "    clusters = calculate_indicator_matrix(clusters)\n",
    "    \n",
    "    return centroids[0], np.where(clusters == 1)[1]\n",
    "\n",
    "\n",
    "\n",
    "def choose_random_centroids(data, k):\n",
    "    \n",
    "    # choose initial centroids    \n",
    "    centroids = []\n",
    "    \n",
    "    # get number of samples\n",
    "    number_of_samples = np.shape(data)[0]\n",
    "    \n",
    "    # choose random samples from dataset\n",
    "    for i in range(k):\n",
    "        random = np.random.randint(0, number_of_samples - 1)\n",
    "        centroids.append(data[random])\n",
    "    \n",
    "    # return chosen centroids\n",
    "    return np.array(centroids)\n",
    "\n",
    "\n",
    "\n",
    "def calculate_new_centroids(data, clusters):\n",
    "    \n",
    "    indicator_matrix = calculate_indicator_matrix(clusters)\n",
    "    \n",
    "    # reshape clusters to use broadcasting\n",
    "    sample_in_cluster = data * indicator_matrix.reshape(indicator_matrix.shape[0], indicator_matrix.shape[1], 1)\n",
    "    \n",
    "    # calculate new centroids by calcluating the mean over all samples in a given cluster\n",
    "    new_centroids = np.sum(sample_in_cluster, axis = 0) / np.count_nonzero(sample_in_cluster, axis = 0)\n",
    "\n",
    "    return new_centroids\n",
    "\n",
    "\n",
    "    \n",
    "def calculate_indicator_matrix(matrix):\n",
    "    \n",
    "    # transform matrix to 0-1-matrix\n",
    "    for i in range(0, matrix.shape[0]):\n",
    "        min = np.amin(matrix[i])\n",
    "        for j in range(0, matrix.shape[1]):\n",
    "            if matrix[i][j] > min:\n",
    "                matrix[i][j] = 0\n",
    "            else:\n",
    "                matrix[i][j] = 1\n",
    "                \n",
    "    return matrix\n",
    "    \n",
    "\n",
    "\n",
    "iris = np.array(datasets.load_iris().data)\n",
    "\n",
    "kmeans(iris, 5) \n",
    "    \n",
    "    "
   ]
  },
  {
   "cell_type": "markdown",
   "id": "cdea0915",
   "metadata": {},
   "source": [
    "### 2."
   ]
  },
  {
   "cell_type": "code",
   "execution_count": null,
   "id": "0073553e",
   "metadata": {},
   "outputs": [],
   "source": []
  },
  {
   "cell_type": "code",
   "execution_count": null,
   "id": "2d8dea3e",
   "metadata": {},
   "outputs": [],
   "source": []
  }
 ],
 "metadata": {
  "kernelspec": {
   "display_name": "Python 3 (ipykernel)",
   "language": "python",
   "name": "python3"
  },
  "language_info": {
   "codemirror_mode": {
    "name": "ipython",
    "version": 3
   },
   "file_extension": ".py",
   "mimetype": "text/x-python",
   "name": "python",
   "nbconvert_exporter": "python",
   "pygments_lexer": "ipython3",
   "version": "3.9.12"
  }
 },
 "nbformat": 4,
 "nbformat_minor": 5
}
