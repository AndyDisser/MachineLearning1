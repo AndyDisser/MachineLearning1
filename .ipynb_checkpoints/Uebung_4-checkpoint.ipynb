{
 "cells": [
  {
   "cell_type": "markdown",
   "id": "f008e3dc",
   "metadata": {},
   "source": [
    "# Exercise 2 – Multivariate Linear Regression\n",
    "\n",
    "Name - Matrikelnummer \n",
    "1) Pham, Ngoc Anh Trung - 7176267\n",
    "2) Viktor Vironski - 4330455\n",
    "3) Andy Disser - 5984875"
   ]
  },
  {
   "cell_type": "code",
   "execution_count": 1,
   "id": "0c0e46ed",
   "metadata": {},
   "outputs": [],
   "source": [
    "import numpy as np\n",
    "from sklearn import datasets\n",
    "\n",
    "import matplotlib.pyplot as plt"
   ]
  },
  {
   "cell_type": "code",
   "execution_count": 3,
   "id": "e55969b9",
   "metadata": {},
   "outputs": [],
   "source": [
    "iris = datasets.load_iris()\n",
    "data = iris.data"
   ]
  },
  {
   "cell_type": "code",
   "execution_count": 4,
   "id": "e1746b70",
   "metadata": {},
   "outputs": [],
   "source": [
    "class OrdinaryLeastSquares:\n",
    "    def __init__(self):\n",
    "        self.X = None\n",
    "        self.Y = None\n",
    "        self.beta = None\n",
    "        \n",
    "    \n",
    "    def fit(self, X, Y):  \n",
    "        \"\"\"\n",
    "        Fits the model parameters using least squares.\n",
    "        \n",
    "        Parameters\n",
    "        ----------\n",
    "           - X: Matrix of input vectors\n",
    "           - Y: Matrix of target vectors\n",
    "           \n",
    "        Returns\n",
    "        -------\n",
    "           - weights beta_1 to beta_p\n",
    "        \"\"\"\n",
    "        \n",
    "        # add a column of ones in the matrix of X\n",
    "        self.X = np.c_[np.ones(len(X)),X]\n",
    "        self.Y = Y\n",
    "        \n",
    "        # beta_head = (X^T * X)^-1 * X^T * Y\n",
    "        weights = np.matmul(np.matmul(np.linalg.inv(np.matmul(np.transpose(self.X),self.X)),np.transpose(self.X)),Y)\n",
    "        self.beta = weights\n",
    "        return self.beta\n",
    "        \n",
    "    def predict(self, X):\n",
    "        \"\"\"\n",
    "        Predict the target vektors Y.\n",
    "        \n",
    "        Parameter\n",
    "        ---------\n",
    "           - X: Matrix of input vectors\n",
    "           \n",
    "        Returns\n",
    "        -------\n",
    "           - predicted target vectors Y.\n",
    "        \"\"\"\n",
    "        # Y = X * Beta + epsilon\n",
    "        Y_head = np.matmul(np.c_[np.ones(len(X)),X],self.beta)\n",
    "        return Y_head"
   ]
  },
  {
   "cell_type": "markdown",
   "id": "5e110ee5",
   "metadata": {},
   "source": [
    "# Test the methods on the iris data set"
   ]
  },
  {
   "cell_type": "code",
   "execution_count": 5,
   "id": "53139750",
   "metadata": {},
   "outputs": [],
   "source": [
    "# random split of the data\n",
    "shuffled_data = np.random.permutation(data)\n",
    "training, test = data[:100,:], data[100:,:]\n",
    "\n",
    "# split the data into X and Y\n",
    "X_training, Y_training = training[:,:2], training[:,2:]\n",
    "X_test, Y_test = test[:,:2], test[:,2:]"
   ]
  },
  {
   "cell_type": "code",
   "execution_count": 6,
   "id": "5fb2eee3",
   "metadata": {
    "scrolled": true
   },
   "outputs": [],
   "source": [
    "# training the model\n",
    "mlr_iris = OrdinaryLeastSquares()\n",
    "mlr_iris.fit(X_training, Y_training)\n",
    "\n",
    "# predict the petal values from the sepal values\n",
    "Y_hat = mlr_iris.predict(X_test)"
   ]
  },
  {
   "cell_type": "code",
   "execution_count": 7,
   "id": "ee9e6de6",
   "metadata": {},
   "outputs": [
    {
     "data": {
      "image/png": "[encoded data removed]",
      "text/plain": [
       "<Figure size 432x288 with 1 Axes>"
      ]
     },
     "metadata": {
      "needs_background": "light"
     },
     "output_type": "display_data"
    }
   ],
   "source": [
    "plt.figure()\n",
    "plt.scatter(Y_test[:,0],Y_test[:,1], color='blue')  \n",
    "plt.scatter(Y_hat[:,0], Y_hat[:,1], color='red')\n",
    "plt.xlabel(\"petal length\")\n",
    "plt.ylabel(\"petal width\")\n",
    "plt.legend([\"real data\", \"predicted data\"])\n",
    "plt.show()"
   ]
  }
 ],
 "metadata": {
  "kernelspec": {
   "display_name": "Python 3 (ipykernel)",
   "language": "python",
   "name": "python3"
  },
  "language_info": {
   "codemirror_mode": {
    "name": "ipython",
    "version": 3
   },
   "file_extension": ".py",
   "mimetype": "text/x-python",
   "name": "python",
   "nbconvert_exporter": "python",
   "pygments_lexer": "ipython3",
   "version": "3.7.13"
  }
 },
 "nbformat": 4,
 "nbformat_minor": 5
}
