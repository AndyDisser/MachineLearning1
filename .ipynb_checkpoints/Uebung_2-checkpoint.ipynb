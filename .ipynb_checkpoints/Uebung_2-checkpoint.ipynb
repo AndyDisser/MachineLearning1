{
 "cells": [
  {
   "cell_type": "markdown",
   "id": "4fc485c2",
   "metadata": {},
   "source": [
    "Name - Matrikelnummer \n",
    "1) Pham, Ngoc Anh Trung - 7176267\n",
    "2) Viktor Vironski - 4330455\n",
    "3) Andy Disser - 5984875"
   ]
  },
  {
   "cell_type": "code",
   "execution_count": 180,
   "id": "1ea6dda8",
   "metadata": {},
   "outputs": [],
   "source": [
    "import numpy as np\n",
    "import random\n",
    "import pandas as pd\n",
    "from sklearn import datasets\n",
    "import matplotlib"
   ]
  },
  {
   "cell_type": "markdown",
   "id": "d45b1d09",
   "metadata": {},
   "source": [
    "# Aufgabe 1"
   ]
  },
  {
   "cell_type": "markdown",
   "id": "6aa5f832",
   "metadata": {},
   "source": [
    "### 1.1)"
   ]
  },
  {
   "cell_type": "code",
   "execution_count": 196,
   "id": "4239b5ca",
   "metadata": {},
   "outputs": [],
   "source": [
    "def kmeans(data, ncluster):\n",
    "    \"\"\"\n",
    "    Implements k-means algorithm.\n",
    "    \n",
    "    Input:   Data as a numpy array\n",
    "             number of clusters\n",
    "             \n",
    "    Output:  cluster index for each datapoint and the centroids\n",
    "    \"\"\"\n",
    "    \n",
    "    # select three random point from the data set as initial centroids\n",
    "    # replace is set to false, since it does not make any sense to have two identical centroids\n",
    "    index_centroids = np.random.choice(len(data), size=ncluster, replace=False)\n",
    "    centroids = data[index_centroids, :]\n",
    "    cluster_array = np.zeros(len(data))\n",
    "    # repeat:\n",
    "    while True:\n",
    "        \n",
    "        # calculate the distance of each data point to the centroids\n",
    "        for i, feature in enumerate(data):\n",
    "            # can I calculate the distance in one step with vectors?\n",
    "            distances = np.zeros(ncluster)\n",
    "            for j, centroid in enumerate(centroids):\n",
    "                dist = np.linalg.norm(feature - centroid)\n",
    "                distances[j] = dist\n",
    "            \n",
    "            # index of the cluster the feature belongs to\n",
    "            cluster_array[i] = np.argmin(distances)\n",
    "            \n",
    "        new_centroids = pd.DataFrame(data).groupby(by=cluster_array).mean().values\n",
    "        \n",
    "        if (centroids == new_centroids).all():\n",
    "            break\n",
    "        else:\n",
    "            centroids = new_centroids\n",
    "            \n",
    "    return centroids, cluster_array"
   ]
  },
  {
   "cell_type": "code",
   "execution_count": 201,
   "id": "5c606e7b",
   "metadata": {
    "scrolled": true
   },
   "outputs": [],
   "source": [
    "iris = datasets.load_iris()"
   ]
  },
  {
   "cell_type": "code",
   "execution_count": 198,
   "id": "022e5c25",
   "metadata": {},
   "outputs": [],
   "source": [
    "centroids, cluster_array = kmeans(iris.data, 3)"
   ]
  },
  {
   "cell_type": "code",
   "execution_count": 199,
   "id": "b20a27f1",
   "metadata": {},
   "outputs": [
    {
     "data": {
      "text/plain": [
       "array([[5.9016129 , 2.7483871 , 4.39354839, 1.43387097],\n",
       "       [5.006     , 3.428     , 1.462     , 0.246     ],\n",
       "       [6.85      , 3.07368421, 5.74210526, 2.07105263]])"
      ]
     },
     "execution_count": 199,
     "metadata": {},
     "output_type": "execute_result"
    }
   ],
   "source": [
    "centroids"
   ]
  },
  {
   "cell_type": "code",
   "execution_count": 200,
   "id": "72c7c96e",
   "metadata": {
    "scrolled": true
   },
   "outputs": [
    {
     "data": {
      "text/plain": [
       "array([1., 1., 1., 1., 1., 1., 1., 1., 1., 1., 1., 1., 1., 1., 1., 1., 1.,\n",
       "       1., 1., 1., 1., 1., 1., 1., 1., 1., 1., 1., 1., 1., 1., 1., 1., 1.,\n",
       "       1., 1., 1., 1., 1., 1., 1., 1., 1., 1., 1., 1., 1., 1., 1., 1., 0.,\n",
       "       0., 2., 0., 0., 0., 0., 0., 0., 0., 0., 0., 0., 0., 0., 0., 0., 0.,\n",
       "       0., 0., 0., 0., 0., 0., 0., 0., 0., 2., 0., 0., 0., 0., 0., 0., 0.,\n",
       "       0., 0., 0., 0., 0., 0., 0., 0., 0., 0., 0., 0., 0., 0., 0., 2., 0.,\n",
       "       2., 2., 2., 2., 0., 2., 2., 2., 2., 2., 2., 0., 0., 2., 2., 2., 2.,\n",
       "       0., 2., 0., 2., 0., 2., 2., 0., 0., 2., 2., 2., 2., 2., 0., 2., 2.,\n",
       "       2., 2., 0., 2., 2., 2., 0., 2., 2., 2., 0., 2., 2., 0.])"
      ]
     },
     "execution_count": 200,
     "metadata": {},
     "output_type": "execute_result"
    }
   ],
   "source": [
    "cluster_array"
   ]
  },
  {
   "cell_type": "markdown",
   "id": "aa4f6592",
   "metadata": {},
   "source": [
    "### 1.2)"
   ]
  },
  {
   "cell_type": "code",
   "execution_count": null,
   "id": "a71c45b4",
   "metadata": {},
   "outputs": [],
   "source": [
    "centroids_1, cluster_array_1 = kmeans(iris.data, 1)"
   ]
  },
  {
   "cell_type": "code",
   "execution_count": null,
   "id": "4cc4c741",
   "metadata": {},
   "outputs": [],
   "source": [
    "centroids_2, cluster_array_2 = kmeans(iris.data, 2)"
   ]
  },
  {
   "cell_type": "code",
   "execution_count": null,
   "id": "1948a583",
   "metadata": {},
   "outputs": [],
   "source": [
    "centroids_3, cluster_array_3 = kmeans(iris.data, 3)"
   ]
  },
  {
   "cell_type": "code",
   "execution_count": null,
   "id": "887bc67e",
   "metadata": {},
   "outputs": [],
   "source": [
    "centroids_4, cluster_array_4 = kmeans(iris.data, 4)"
   ]
  },
  {
   "cell_type": "code",
   "execution_count": null,
   "id": "02b4d4dd",
   "metadata": {},
   "outputs": [],
   "source": [
    "centroids_5, cluster_array_5 = kmeans(iris.data, 5)"
   ]
  },
  {
   "cell_type": "code",
   "execution_count": null,
   "id": "2508b62e",
   "metadata": {},
   "outputs": [],
   "source": [
    "centroids_6, cluster_array_6 = kmeans(iris.data, 6)"
   ]
  },
  {
   "cell_type": "code",
   "execution_count": null,
   "id": "3761a18a",
   "metadata": {},
   "outputs": [],
   "source": [
    "centroids_7, cluster_array_7 = kmeans(iris.data, 7)"
   ]
  },
  {
   "cell_type": "code",
   "execution_count": null,
   "id": "6daf102f",
   "metadata": {},
   "outputs": [],
   "source": [
    "centroids_8, cluster_array_8 = kmeans(iris.data, 8)"
   ]
  },
  {
   "cell_type": "code",
   "execution_count": null,
   "id": "72a4a143",
   "metadata": {},
   "outputs": [],
   "source": [
    "centroids_9, cluster_array_9 = kmeans(iris.data, 9)"
   ]
  },
  {
   "cell_type": "code",
   "execution_count": null,
   "id": "066d7a97",
   "metadata": {},
   "outputs": [],
   "source": [
    "centroids_10, cluster_array_10 = kmeans(iris.data, 10)"
   ]
  },
  {
   "cell_type": "code",
   "execution_count": null,
   "id": "03555408",
   "metadata": {},
   "outputs": [],
   "source": []
  },
  {
   "cell_type": "code",
   "execution_count": null,
   "id": "fde67991",
   "metadata": {},
   "outputs": [],
   "source": []
  },
  {
   "cell_type": "code",
   "execution_count": null,
   "id": "925d9dbe",
   "metadata": {},
   "outputs": [],
   "source": []
  },
  {
   "cell_type": "code",
   "execution_count": null,
   "id": "2db05cf7",
   "metadata": {},
   "outputs": [],
   "source": []
  },
  {
   "cell_type": "code",
   "execution_count": null,
   "id": "27d28071",
   "metadata": {},
   "outputs": [],
   "source": []
  },
  {
   "cell_type": "code",
   "execution_count": null,
   "id": "5a5e9df7",
   "metadata": {},
   "outputs": [],
   "source": []
  },
  {
   "cell_type": "code",
   "execution_count": 181,
   "id": "e90df5dc",
   "metadata": {
    "scrolled": true
   },
   "outputs": [
    {
     "name": "stdout",
     "output_type": "stream",
     "text": [
      "[120  99 140]\n",
      "[[6.9 3.2 5.7 2.3]\n",
      " [5.7 2.8 4.1 1.3]\n",
      " [6.7 3.1 5.6 2.4]]\n"
     ]
    }
   ],
   "source": [
    "index_centroids = np.random.choice(len(iris.data), size=3, replace=False)\n",
    "print(index_centroids)\n",
    "centroids = iris.data[index_centroids, :]\n",
    "print(centroids)\n",
    "#print(centroids[:,:-1])"
   ]
  },
  {
   "cell_type": "code",
   "execution_count": 182,
   "id": "d7091fb7",
   "metadata": {},
   "outputs": [
    {
     "name": "stdout",
     "output_type": "stream",
     "text": [
      "[5.12152321 3.05777697 5.01996016]\n"
     ]
    }
   ],
   "source": [
    "distances = np.zeros(3)\n",
    "for j, centroid in enumerate(centroids):\n",
    "    dist = np.linalg.norm(iris.data[0] - centroid)\n",
    "    distances[j] = dist\n",
    "    \n",
    "print(distances)"
   ]
  },
  {
   "cell_type": "code",
   "execution_count": 176,
   "id": "1e9a453e",
   "metadata": {},
   "outputs": [
    {
     "data": {
      "text/plain": [
       "0"
      ]
     },
     "execution_count": 176,
     "metadata": {},
     "output_type": "execute_result"
    }
   ],
   "source": [
    "np.argmin(distances)"
   ]
  },
  {
   "cell_type": "code",
   "execution_count": 157,
   "id": "f100d9b4",
   "metadata": {},
   "outputs": [
    {
     "data": {
      "text/plain": [
       "array([5.1, 3.5, 1.4, 0.2])"
      ]
     },
     "execution_count": 157,
     "metadata": {},
     "output_type": "execute_result"
    }
   ],
   "source": [
    "iris.data[0]"
   ]
  },
  {
   "cell_type": "code",
   "execution_count": 161,
   "id": "8587fc60",
   "metadata": {},
   "outputs": [
    {
     "data": {
      "text/plain": [
       "5.31224999411737"
      ]
     },
     "execution_count": 161,
     "metadata": {},
     "output_type": "execute_result"
    }
   ],
   "source": [
    "((7.2 - 5.1)**2 + (3.2-3.5)**2 + (6-1.4)**2 + (1.8-0.2)**2)**0.5"
   ]
  },
  {
   "cell_type": "code",
   "execution_count": 163,
   "id": "884e4084",
   "metadata": {},
   "outputs": [
    {
     "data": {
      "text/plain": [
       "5.31224999411737"
      ]
     },
     "execution_count": 163,
     "metadata": {},
     "output_type": "execute_result"
    }
   ],
   "source": [
    "dist = np.linalg.norm(iris.data[0] - centroids[0])\n",
    "dist"
   ]
  },
  {
   "cell_type": "code",
   "execution_count": 154,
   "id": "03aa6769",
   "metadata": {},
   "outputs": [
    {
     "data": {
      "text/plain": [
       "(150, 4)"
      ]
     },
     "execution_count": 154,
     "metadata": {},
     "output_type": "execute_result"
    }
   ],
   "source": [
    "iris.data.shape\n"
   ]
  },
  {
   "cell_type": "code",
   "execution_count": 31,
   "id": "5bd1552a",
   "metadata": {},
   "outputs": [],
   "source": [
    "a = np.array([[1,2],\n",
    "          [3,4]])"
   ]
  },
  {
   "cell_type": "code",
   "execution_count": 91,
   "id": "7e3d49fe",
   "metadata": {},
   "outputs": [
    {
     "data": {
      "text/plain": [
       "array([[5.1, 3.5, 1.4, 0.2, 0. ],\n",
       "       [4.9, 3. , 1.4, 0.2, 0. ],\n",
       "       [4.7, 3.2, 1.3, 0.2, 0. ],\n",
       "       [4.6, 3.1, 1.5, 0.2, 0. ],\n",
       "       [5. , 3.6, 1.4, 0.2, 0. ],\n",
       "       [5.4, 3.9, 1.7, 0.4, 0. ],\n",
       "       [4.6, 3.4, 1.4, 0.3, 0. ],\n",
       "       [5. , 3.4, 1.5, 0.2, 0. ],\n",
       "       [4.4, 2.9, 1.4, 0.2, 0. ],\n",
       "       [4.9, 3.1, 1.5, 0.1, 0. ],\n",
       "       [5.4, 3.7, 1.5, 0.2, 0. ],\n",
       "       [4.8, 3.4, 1.6, 0.2, 0. ],\n",
       "       [4.8, 3. , 1.4, 0.1, 0. ],\n",
       "       [4.3, 3. , 1.1, 0.1, 0. ],\n",
       "       [5.8, 4. , 1.2, 0.2, 0. ],\n",
       "       [5.7, 4.4, 1.5, 0.4, 0. ],\n",
       "       [5.4, 3.9, 1.3, 0.4, 0. ],\n",
       "       [5.1, 3.5, 1.4, 0.3, 0. ],\n",
       "       [5.7, 3.8, 1.7, 0.3, 0. ],\n",
       "       [5.1, 3.8, 1.5, 0.3, 0. ],\n",
       "       [5.4, 3.4, 1.7, 0.2, 0. ],\n",
       "       [5.1, 3.7, 1.5, 0.4, 0. ],\n",
       "       [4.6, 3.6, 1. , 0.2, 0. ],\n",
       "       [5.1, 3.3, 1.7, 0.5, 0. ],\n",
       "       [4.8, 3.4, 1.9, 0.2, 0. ],\n",
       "       [5. , 3. , 1.6, 0.2, 0. ],\n",
       "       [5. , 3.4, 1.6, 0.4, 0. ],\n",
       "       [5.2, 3.5, 1.5, 0.2, 0. ],\n",
       "       [5.2, 3.4, 1.4, 0.2, 0. ],\n",
       "       [4.7, 3.2, 1.6, 0.2, 0. ],\n",
       "       [4.8, 3.1, 1.6, 0.2, 0. ],\n",
       "       [5.4, 3.4, 1.5, 0.4, 0. ],\n",
       "       [5.2, 4.1, 1.5, 0.1, 0. ],\n",
       "       [5.5, 4.2, 1.4, 0.2, 0. ],\n",
       "       [4.9, 3.1, 1.5, 0.2, 0. ],\n",
       "       [5. , 3.2, 1.2, 0.2, 0. ],\n",
       "       [5.5, 3.5, 1.3, 0.2, 0. ],\n",
       "       [4.9, 3.6, 1.4, 0.1, 0. ],\n",
       "       [4.4, 3. , 1.3, 0.2, 0. ],\n",
       "       [5.1, 3.4, 1.5, 0.2, 0. ],\n",
       "       [5. , 3.5, 1.3, 0.3, 0. ],\n",
       "       [4.5, 2.3, 1.3, 0.3, 0. ],\n",
       "       [4.4, 3.2, 1.3, 0.2, 0. ],\n",
       "       [5. , 3.5, 1.6, 0.6, 0. ],\n",
       "       [5.1, 3.8, 1.9, 0.4, 0. ],\n",
       "       [4.8, 3. , 1.4, 0.3, 0. ],\n",
       "       [5.1, 3.8, 1.6, 0.2, 0. ],\n",
       "       [4.6, 3.2, 1.4, 0.2, 0. ],\n",
       "       [5.3, 3.7, 1.5, 0.2, 0. ],\n",
       "       [5. , 3.3, 1.4, 0.2, 0. ],\n",
       "       [7. , 3.2, 4.7, 1.4, 0. ],\n",
       "       [6.4, 3.2, 4.5, 1.5, 0. ],\n",
       "       [6.9, 3.1, 4.9, 1.5, 0. ],\n",
       "       [5.5, 2.3, 4. , 1.3, 0. ],\n",
       "       [6.5, 2.8, 4.6, 1.5, 0. ],\n",
       "       [5.7, 2.8, 4.5, 1.3, 0. ],\n",
       "       [6.3, 3.3, 4.7, 1.6, 0. ],\n",
       "       [4.9, 2.4, 3.3, 1. , 0. ],\n",
       "       [6.6, 2.9, 4.6, 1.3, 0. ],\n",
       "       [5.2, 2.7, 3.9, 1.4, 0. ],\n",
       "       [5. , 2. , 3.5, 1. , 0. ],\n",
       "       [5.9, 3. , 4.2, 1.5, 0. ],\n",
       "       [6. , 2.2, 4. , 1. , 0. ],\n",
       "       [6.1, 2.9, 4.7, 1.4, 0. ],\n",
       "       [5.6, 2.9, 3.6, 1.3, 0. ],\n",
       "       [6.7, 3.1, 4.4, 1.4, 0. ],\n",
       "       [5.6, 3. , 4.5, 1.5, 0. ],\n",
       "       [5.8, 2.7, 4.1, 1. , 0. ],\n",
       "       [6.2, 2.2, 4.5, 1.5, 0. ],\n",
       "       [5.6, 2.5, 3.9, 1.1, 0. ],\n",
       "       [5.9, 3.2, 4.8, 1.8, 0. ],\n",
       "       [6.1, 2.8, 4. , 1.3, 0. ],\n",
       "       [6.3, 2.5, 4.9, 1.5, 0. ],\n",
       "       [6.1, 2.8, 4.7, 1.2, 0. ],\n",
       "       [6.4, 2.9, 4.3, 1.3, 0. ],\n",
       "       [6.6, 3. , 4.4, 1.4, 0. ],\n",
       "       [6.8, 2.8, 4.8, 1.4, 0. ],\n",
       "       [6.7, 3. , 5. , 1.7, 0. ],\n",
       "       [6. , 2.9, 4.5, 1.5, 0. ],\n",
       "       [5.7, 2.6, 3.5, 1. , 0. ],\n",
       "       [5.5, 2.4, 3.8, 1.1, 0. ],\n",
       "       [5.5, 2.4, 3.7, 1. , 0. ],\n",
       "       [5.8, 2.7, 3.9, 1.2, 0. ],\n",
       "       [6. , 2.7, 5.1, 1.6, 0. ],\n",
       "       [5.4, 3. , 4.5, 1.5, 0. ],\n",
       "       [6. , 3.4, 4.5, 1.6, 0. ],\n",
       "       [6.7, 3.1, 4.7, 1.5, 0. ],\n",
       "       [6.3, 2.3, 4.4, 1.3, 0. ],\n",
       "       [5.6, 3. , 4.1, 1.3, 0. ],\n",
       "       [5.5, 2.5, 4. , 1.3, 0. ],\n",
       "       [5.5, 2.6, 4.4, 1.2, 0. ],\n",
       "       [6.1, 3. , 4.6, 1.4, 0. ],\n",
       "       [5.8, 2.6, 4. , 1.2, 0. ],\n",
       "       [5. , 2.3, 3.3, 1. , 0. ],\n",
       "       [5.6, 2.7, 4.2, 1.3, 0. ],\n",
       "       [5.7, 3. , 4.2, 1.2, 0. ],\n",
       "       [5.7, 2.9, 4.2, 1.3, 0. ],\n",
       "       [6.2, 2.9, 4.3, 1.3, 0. ],\n",
       "       [5.1, 2.5, 3. , 1.1, 0. ],\n",
       "       [5.7, 2.8, 4.1, 1.3, 0. ],\n",
       "       [6.3, 3.3, 6. , 2.5, 0. ],\n",
       "       [5.8, 2.7, 5.1, 1.9, 0. ],\n",
       "       [7.1, 3. , 5.9, 2.1, 0. ],\n",
       "       [6.3, 2.9, 5.6, 1.8, 0. ],\n",
       "       [6.5, 3. , 5.8, 2.2, 0. ],\n",
       "       [7.6, 3. , 6.6, 2.1, 0. ],\n",
       "       [4.9, 2.5, 4.5, 1.7, 0. ],\n",
       "       [7.3, 2.9, 6.3, 1.8, 0. ],\n",
       "       [6.7, 2.5, 5.8, 1.8, 0. ],\n",
       "       [7.2, 3.6, 6.1, 2.5, 0. ],\n",
       "       [6.5, 3.2, 5.1, 2. , 0. ],\n",
       "       [6.4, 2.7, 5.3, 1.9, 0. ],\n",
       "       [6.8, 3. , 5.5, 2.1, 0. ],\n",
       "       [5.7, 2.5, 5. , 2. , 0. ],\n",
       "       [5.8, 2.8, 5.1, 2.4, 0. ],\n",
       "       [6.4, 3.2, 5.3, 2.3, 0. ],\n",
       "       [6.5, 3. , 5.5, 1.8, 0. ],\n",
       "       [7.7, 3.8, 6.7, 2.2, 0. ],\n",
       "       [7.7, 2.6, 6.9, 2.3, 0. ],\n",
       "       [6. , 2.2, 5. , 1.5, 0. ],\n",
       "       [6.9, 3.2, 5.7, 2.3, 0. ],\n",
       "       [5.6, 2.8, 4.9, 2. , 0. ],\n",
       "       [7.7, 2.8, 6.7, 2. , 0. ],\n",
       "       [6.3, 2.7, 4.9, 1.8, 0. ],\n",
       "       [6.7, 3.3, 5.7, 2.1, 0. ],\n",
       "       [7.2, 3.2, 6. , 1.8, 0. ],\n",
       "       [6.2, 2.8, 4.8, 1.8, 0. ],\n",
       "       [6.1, 3. , 4.9, 1.8, 0. ],\n",
       "       [6.4, 2.8, 5.6, 2.1, 0. ],\n",
       "       [7.2, 3. , 5.8, 1.6, 0. ],\n",
       "       [7.4, 2.8, 6.1, 1.9, 0. ],\n",
       "       [7.9, 3.8, 6.4, 2. , 0. ],\n",
       "       [6.4, 2.8, 5.6, 2.2, 0. ],\n",
       "       [6.3, 2.8, 5.1, 1.5, 0. ],\n",
       "       [6.1, 2.6, 5.6, 1.4, 0. ],\n",
       "       [7.7, 3. , 6.1, 2.3, 0. ],\n",
       "       [6.3, 3.4, 5.6, 2.4, 0. ],\n",
       "       [6.4, 3.1, 5.5, 1.8, 0. ],\n",
       "       [6. , 3. , 4.8, 1.8, 0. ],\n",
       "       [6.9, 3.1, 5.4, 2.1, 0. ],\n",
       "       [6.7, 3.1, 5.6, 2.4, 0. ],\n",
       "       [6.9, 3.1, 5.1, 2.3, 0. ],\n",
       "       [5.8, 2.7, 5.1, 1.9, 0. ],\n",
       "       [6.8, 3.2, 5.9, 2.3, 0. ],\n",
       "       [6.7, 3.3, 5.7, 2.5, 0. ],\n",
       "       [6.7, 3. , 5.2, 2.3, 0. ],\n",
       "       [6.3, 2.5, 5. , 1.9, 0. ],\n",
       "       [6.5, 3. , 5.2, 2. , 0. ],\n",
       "       [6.2, 3.4, 5.4, 2.3, 0. ],\n",
       "       [5.9, 3. , 5.1, 1.8, 0. ]])"
      ]
     },
     "execution_count": 91,
     "metadata": {},
     "output_type": "execute_result"
    }
   ],
   "source": [
    "np.insert(iris.data, iris.data.shape[-1], 0, axis=1)\n"
   ]
  },
  {
   "cell_type": "code",
   "execution_count": 46,
   "id": "f624f4b3",
   "metadata": {},
   "outputs": [
    {
     "data": {
      "text/plain": [
       "150"
      ]
     },
     "execution_count": 46,
     "metadata": {},
     "output_type": "execute_result"
    }
   ],
   "source": [
    "len(iris.data)"
   ]
  },
  {
   "cell_type": "code",
   "execution_count": 79,
   "id": "24f2a628",
   "metadata": {},
   "outputs": [
    {
     "data": {
      "text/plain": [
       "array([2, 0, 3, 1])"
      ]
     },
     "execution_count": 79,
     "metadata": {},
     "output_type": "execute_result"
    }
   ],
   "source": [
    "np.random.choice(4, size=4, replace=False)"
   ]
  },
  {
   "cell_type": "code",
   "execution_count": 81,
   "id": "9de9516a",
   "metadata": {},
   "outputs": [
    {
     "name": "stdout",
     "output_type": "stream",
     "text": [
      "[5.1 3.5 1.4 0.2]\n",
      "[4.9 3.  1.4 0.2]\n",
      "[4.7 3.2 1.3 0.2]\n",
      "[4.6 3.1 1.5 0.2]\n",
      "[5.  3.6 1.4 0.2]\n",
      "[5.4 3.9 1.7 0.4]\n",
      "[4.6 3.4 1.4 0.3]\n",
      "[5.  3.4 1.5 0.2]\n",
      "[4.4 2.9 1.4 0.2]\n",
      "[4.9 3.1 1.5 0.1]\n",
      "[5.4 3.7 1.5 0.2]\n",
      "[4.8 3.4 1.6 0.2]\n",
      "[4.8 3.  1.4 0.1]\n",
      "[4.3 3.  1.1 0.1]\n",
      "[5.8 4.  1.2 0.2]\n",
      "[5.7 4.4 1.5 0.4]\n",
      "[5.4 3.9 1.3 0.4]\n",
      "[5.1 3.5 1.4 0.3]\n",
      "[5.7 3.8 1.7 0.3]\n",
      "[5.1 3.8 1.5 0.3]\n",
      "[5.4 3.4 1.7 0.2]\n",
      "[5.1 3.7 1.5 0.4]\n",
      "[4.6 3.6 1.  0.2]\n",
      "[5.1 3.3 1.7 0.5]\n",
      "[4.8 3.4 1.9 0.2]\n",
      "[5.  3.  1.6 0.2]\n",
      "[5.  3.4 1.6 0.4]\n",
      "[5.2 3.5 1.5 0.2]\n",
      "[5.2 3.4 1.4 0.2]\n",
      "[4.7 3.2 1.6 0.2]\n",
      "[4.8 3.1 1.6 0.2]\n",
      "[5.4 3.4 1.5 0.4]\n",
      "[5.2 4.1 1.5 0.1]\n",
      "[5.5 4.2 1.4 0.2]\n",
      "[4.9 3.1 1.5 0.2]\n",
      "[5.  3.2 1.2 0.2]\n",
      "[5.5 3.5 1.3 0.2]\n",
      "[4.9 3.6 1.4 0.1]\n",
      "[4.4 3.  1.3 0.2]\n",
      "[5.1 3.4 1.5 0.2]\n",
      "[5.  3.5 1.3 0.3]\n",
      "[4.5 2.3 1.3 0.3]\n",
      "[4.4 3.2 1.3 0.2]\n",
      "[5.  3.5 1.6 0.6]\n",
      "[5.1 3.8 1.9 0.4]\n",
      "[4.8 3.  1.4 0.3]\n",
      "[5.1 3.8 1.6 0.2]\n",
      "[4.6 3.2 1.4 0.2]\n",
      "[5.3 3.7 1.5 0.2]\n",
      "[5.  3.3 1.4 0.2]\n",
      "[7.  3.2 4.7 1.4]\n",
      "[6.4 3.2 4.5 1.5]\n",
      "[6.9 3.1 4.9 1.5]\n",
      "[5.5 2.3 4.  1.3]\n",
      "[6.5 2.8 4.6 1.5]\n",
      "[5.7 2.8 4.5 1.3]\n",
      "[6.3 3.3 4.7 1.6]\n",
      "[4.9 2.4 3.3 1. ]\n",
      "[6.6 2.9 4.6 1.3]\n",
      "[5.2 2.7 3.9 1.4]\n",
      "[5.  2.  3.5 1. ]\n",
      "[5.9 3.  4.2 1.5]\n",
      "[6.  2.2 4.  1. ]\n",
      "[6.1 2.9 4.7 1.4]\n",
      "[5.6 2.9 3.6 1.3]\n",
      "[6.7 3.1 4.4 1.4]\n",
      "[5.6 3.  4.5 1.5]\n",
      "[5.8 2.7 4.1 1. ]\n",
      "[6.2 2.2 4.5 1.5]\n",
      "[5.6 2.5 3.9 1.1]\n",
      "[5.9 3.2 4.8 1.8]\n",
      "[6.1 2.8 4.  1.3]\n",
      "[6.3 2.5 4.9 1.5]\n",
      "[6.1 2.8 4.7 1.2]\n",
      "[6.4 2.9 4.3 1.3]\n",
      "[6.6 3.  4.4 1.4]\n",
      "[6.8 2.8 4.8 1.4]\n",
      "[6.7 3.  5.  1.7]\n",
      "[6.  2.9 4.5 1.5]\n",
      "[5.7 2.6 3.5 1. ]\n",
      "[5.5 2.4 3.8 1.1]\n",
      "[5.5 2.4 3.7 1. ]\n",
      "[5.8 2.7 3.9 1.2]\n",
      "[6.  2.7 5.1 1.6]\n",
      "[5.4 3.  4.5 1.5]\n",
      "[6.  3.4 4.5 1.6]\n",
      "[6.7 3.1 4.7 1.5]\n",
      "[6.3 2.3 4.4 1.3]\n",
      "[5.6 3.  4.1 1.3]\n",
      "[5.5 2.5 4.  1.3]\n",
      "[5.5 2.6 4.4 1.2]\n",
      "[6.1 3.  4.6 1.4]\n",
      "[5.8 2.6 4.  1.2]\n",
      "[5.  2.3 3.3 1. ]\n",
      "[5.6 2.7 4.2 1.3]\n",
      "[5.7 3.  4.2 1.2]\n",
      "[5.7 2.9 4.2 1.3]\n",
      "[6.2 2.9 4.3 1.3]\n",
      "[5.1 2.5 3.  1.1]\n",
      "[5.7 2.8 4.1 1.3]\n",
      "[6.3 3.3 6.  2.5]\n",
      "[5.8 2.7 5.1 1.9]\n",
      "[7.1 3.  5.9 2.1]\n",
      "[6.3 2.9 5.6 1.8]\n",
      "[6.5 3.  5.8 2.2]\n",
      "[7.6 3.  6.6 2.1]\n",
      "[4.9 2.5 4.5 1.7]\n",
      "[7.3 2.9 6.3 1.8]\n",
      "[6.7 2.5 5.8 1.8]\n",
      "[7.2 3.6 6.1 2.5]\n",
      "[6.5 3.2 5.1 2. ]\n",
      "[6.4 2.7 5.3 1.9]\n",
      "[6.8 3.  5.5 2.1]\n",
      "[5.7 2.5 5.  2. ]\n",
      "[5.8 2.8 5.1 2.4]\n",
      "[6.4 3.2 5.3 2.3]\n",
      "[6.5 3.  5.5 1.8]\n",
      "[7.7 3.8 6.7 2.2]\n",
      "[7.7 2.6 6.9 2.3]\n",
      "[6.  2.2 5.  1.5]\n",
      "[6.9 3.2 5.7 2.3]\n",
      "[5.6 2.8 4.9 2. ]\n",
      "[7.7 2.8 6.7 2. ]\n",
      "[6.3 2.7 4.9 1.8]\n",
      "[6.7 3.3 5.7 2.1]\n",
      "[7.2 3.2 6.  1.8]\n",
      "[6.2 2.8 4.8 1.8]\n",
      "[6.1 3.  4.9 1.8]\n",
      "[6.4 2.8 5.6 2.1]\n",
      "[7.2 3.  5.8 1.6]\n",
      "[7.4 2.8 6.1 1.9]\n",
      "[7.9 3.8 6.4 2. ]\n",
      "[6.4 2.8 5.6 2.2]\n",
      "[6.3 2.8 5.1 1.5]\n",
      "[6.1 2.6 5.6 1.4]\n",
      "[7.7 3.  6.1 2.3]\n",
      "[6.3 3.4 5.6 2.4]\n",
      "[6.4 3.1 5.5 1.8]\n",
      "[6.  3.  4.8 1.8]\n",
      "[6.9 3.1 5.4 2.1]\n",
      "[6.7 3.1 5.6 2.4]\n",
      "[6.9 3.1 5.1 2.3]\n",
      "[5.8 2.7 5.1 1.9]\n",
      "[6.8 3.2 5.9 2.3]\n",
      "[6.7 3.3 5.7 2.5]\n",
      "[6.7 3.  5.2 2.3]\n",
      "[6.3 2.5 5.  1.9]\n",
      "[6.5 3.  5.2 2. ]\n",
      "[6.2 3.4 5.4 2.3]\n",
      "[5.9 3.  5.1 1.8]\n"
     ]
    }
   ],
   "source": [
    "for i, sample in enumerate(iris.data):\n",
    "    print(sample)"
   ]
  },
  {
   "cell_type": "code",
   "execution_count": 89,
   "id": "bddd4f70",
   "metadata": {},
   "outputs": [
    {
     "data": {
      "text/plain": [
       "array([5.1, 3.5, 1.4, 0.2])"
      ]
     },
     "execution_count": 89,
     "metadata": {},
     "output_type": "execute_result"
    }
   ],
   "source": [
    "a = iris.data[0]\n",
    "a"
   ]
  },
  {
   "cell_type": "code",
   "execution_count": 90,
   "id": "33d79caf",
   "metadata": {},
   "outputs": [
    {
     "data": {
      "text/plain": [
       "array([[4.9, 3. , 1.4, 0.2],\n",
       "       [4.7, 3.2, 1.3, 0.2]])"
      ]
     },
     "execution_count": 90,
     "metadata": {},
     "output_type": "execute_result"
    }
   ],
   "source": [
    "b = iris.data[1:3]\n",
    "b"
   ]
  },
  {
   "cell_type": "code",
   "execution_count": 87,
   "id": "d5cf7eb5",
   "metadata": {},
   "outputs": [
    {
     "data": {
      "text/plain": [
       "0.7416198487095658"
      ]
     },
     "execution_count": 87,
     "metadata": {},
     "output_type": "execute_result"
    }
   ],
   "source": [
    "np.linalg.norm(a - b)"
   ]
  },
  {
   "cell_type": "code",
   "execution_count": 88,
   "id": "bbfa979e",
   "metadata": {},
   "outputs": [
    {
     "data": {
      "text/plain": [
       "array([[0.2, 0.5, 0. , 0. ],\n",
       "       [0.4, 0.3, 0.1, 0. ]])"
      ]
     },
     "execution_count": 88,
     "metadata": {},
     "output_type": "execute_result"
    }
   ],
   "source": [
    "a - b"
   ]
  },
  {
   "cell_type": "code",
   "execution_count": null,
   "id": "403dfd4e",
   "metadata": {},
   "outputs": [],
   "source": []
  }
 ],
 "metadata": {
  "kernelspec": {
   "display_name": "Python 3 (ipykernel)",
   "language": "python",
   "name": "python3"
  },
  "language_info": {
   "codemirror_mode": {
    "name": "ipython",
    "version": 3
   },
   "file_extension": ".py",
   "mimetype": "text/x-python",
   "name": "python",
   "nbconvert_exporter": "python",
   "pygments_lexer": "ipython3",
   "version": "3.7.13"
  }
 },
 "nbformat": 4,
 "nbformat_minor": 5
}
