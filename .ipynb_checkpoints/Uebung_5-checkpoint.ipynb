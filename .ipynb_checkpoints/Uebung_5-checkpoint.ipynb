{
 "cells": [
  {
   "cell_type": "code",
   "execution_count": 2,
   "id": "910ca031",
   "metadata": {},
   "outputs": [],
   "source": [
    "import numpy as np\n",
    "from sklearn.svm import SVC\n",
    "from sklearn.model_selection import GridSearchCV"
   ]
  },
  {
   "cell_type": "code",
   "execution_count": 4,
   "id": "c68c2573",
   "metadata": {},
   "outputs": [],
   "source": [
    "from sklearn import datasets\n",
    "iris = datasets.load_iris()\n",
    "data = iris.data"
   ]
  },
  {
   "cell_type": "code",
   "execution_count": 5,
   "id": "64e383ae",
   "metadata": {},
   "outputs": [],
   "source": [
    "X, y = datasets.load_iris(return_X_y=True)"
   ]
  },
  {
   "cell_type": "markdown",
   "id": "9fb39c60",
   "metadata": {},
   "source": [
    "# Split the dataset"
   ]
  },
  {
   "cell_type": "code",
   "execution_count": 9,
   "id": "24ae4d19",
   "metadata": {},
   "outputs": [],
   "source": [
    "# numbers from 1 to 150 randomly shuffled\n",
    "random_inidices = np.random.choice(150,size=150, replace=False)"
   ]
  },
  {
   "cell_type": "code",
   "execution_count": 10,
   "id": "80de8bf8",
   "metadata": {},
   "outputs": [],
   "source": [
    "# assign the first 105 random indicies for training and the rest for testing\n",
    "training_inices, test_indices = random_inidices[:105], random_inidices[105:]"
   ]
  },
  {
   "cell_type": "code",
   "execution_count": 12,
   "id": "361a005d",
   "metadata": {},
   "outputs": [],
   "source": [
    "# get the training data from the randomly picked indicies\n",
    "training_data = np.zeros((105,4))\n",
    "for num, index in enumerate(training_inices):\n",
    "    training_data[num,:] = data[index]"
   ]
  },
  {
   "cell_type": "code",
   "execution_count": 13,
   "id": "4db53d81",
   "metadata": {},
   "outputs": [],
   "source": [
    "# get the training targets from the randomly picked indicies\n",
    "training_target = np.zeros((105))\n",
    "for num, index in enumerate(training_inices):\n",
    "    training_target[num] = iris.target[index]"
   ]
  },
  {
   "cell_type": "code",
   "execution_count": 19,
   "id": "57c1984b",
   "metadata": {},
   "outputs": [],
   "source": [
    "# get the test data from the randomly picked inidicies\n",
    "test_data = np.zeros((45,4))\n",
    "for num, index in enumerate(test_indices):\n",
    "    test_data[num,:] = data[index]"
   ]
  },
  {
   "cell_type": "code",
   "execution_count": 21,
   "id": "78d444db",
   "metadata": {},
   "outputs": [],
   "source": [
    "# get the test targets from the randomly picked inidicies\n",
    "test_target = np.zeros(45)\n",
    "for num, index in enumerate(test_indices):\n",
    "    test_target[num] = iris.target[index]"
   ]
  },
  {
   "cell_type": "markdown",
   "id": "bf507886",
   "metadata": {},
   "source": [
    "# 5-fold cross-validation"
   ]
  },
  {
   "cell_type": "code",
   "execution_count": 14,
   "id": "e85106cc",
   "metadata": {},
   "outputs": [],
   "source": [
    "param_grid = {'C': [0.001, 0.01, 0.1, 1, 10], 'gamma': [0.01, 0.1, 1, 10], 'kernel': ['rbf']}"
   ]
  },
  {
   "cell_type": "code",
   "execution_count": 18,
   "id": "15609a31",
   "metadata": {},
   "outputs": [
    {
     "name": "stdout",
     "output_type": "stream",
     "text": [
      "The accuracy of the C-gamma combinations is shown in the following matrix (C,gamma):\n",
      "\n",
      "[[0.22857143 0.22857143 0.22857143 0.22857143]\n",
      " [0.22857143 0.22857143 0.22857143 0.22857143]\n",
      " [0.37142857 0.80952381 0.93333333 0.24761905]\n",
      " [0.8952381  0.95238095 0.95238095 0.92380952]\n",
      " [0.96190476 0.98095238 0.94285714 0.92380952]]\n",
      "\n",
      "The highest accuracy is 0.980952380952381. \n",
      "It was achieved with (C,gamma) = (10, 0.1)\n"
     ]
    }
   ],
   "source": [
    "accuracy_matrix = np.zeros((len(param_grid[\"C\"]),len(param_grid[\"gamma\"])))\n",
    "\n",
    "# iterate over all C-gamma combinations and all folds\n",
    "for c_index, c in enumerate(param_grid[\"C\"]):  \n",
    "    for g_index, gamma in enumerate(param_grid[\"gamma\"]):\n",
    "        \n",
    "        # array for the accuracies in fold i\n",
    "        acc_folds = np.zeros(5)\n",
    "        \n",
    "        # split the data into 5 subarrays\n",
    "        fold_data_arrays = np.split(training_data, 5)\n",
    "        fold_target_arrays = np.split(training_target, 5)\n",
    "        \n",
    "        for fold_i in range(5):\n",
    "            \n",
    "            #copy folds array to make no changes at the original list of arrays\n",
    "            fold_i_data = fold_data_arrays.copy()\n",
    "            fold_i_target = fold_target_arrays.copy()\n",
    "            \n",
    "            #test data for the i-th fold\n",
    "            fold_i_test_d = fold_i_data.pop(fold_i)\n",
    "            fold_i_test_t = fold_i_target.pop(fold_i)\n",
    "            \n",
    "            # training data for the i-th fold\n",
    "            fold_i_training_d = np.concatenate(fold_i_data)\n",
    "            fold_i_training_t = np.concatenate(fold_i_target)\n",
    "            \n",
    "            # calculate the pobability\n",
    "            acc = SVC(C=c, gamma=gamma)\n",
    "            acc.fit(fold_i_training_d, fold_i_training_t)\n",
    "            acc_folds[fold_i] = acc.score(fold_i_test_d, fold_i_test_t)\n",
    "        \n",
    "        # calculate the average accuracy\n",
    "        accuracy_matrix[c_index, g_index] = np.mean(acc_folds)\n",
    "\n",
    "# best values for C and gamma\n",
    "best_C = param_grid[\"C\"][np.argmax(accuracy_matrix)//4]\n",
    "best_gamma = param_grid[\"gamma\"][np.argmax(accuracy_matrix)%4]\n",
    "\n",
    "print(f\"The accuracy of the C-gamma combinations is shown in the following matrix (C,gamma):\\n\\n\\\n",
    "{accuracy_matrix}\")\n",
    "print()\n",
    "print(f\"The highest accuracy is {np.amax(accuracy_matrix)}. \\n\\\n",
    "It was achieved with (C,gamma) = {(best_C,best_gamma)}\")"
   ]
  },
  {
   "cell_type": "markdown",
   "id": "3ae3a496",
   "metadata": {},
   "source": [
    "# train the whole trainig data with the optimal parameters from cross-validation"
   ]
  },
  {
   "cell_type": "code",
   "execution_count": 26,
   "id": "719bd724",
   "metadata": {},
   "outputs": [],
   "source": [
    "final_model = SVC(C=best_C,gamma=best_gamma, kernel='rbf')"
   ]
  },
  {
   "cell_type": "code",
   "execution_count": 27,
   "id": "e7c48eac",
   "metadata": {},
   "outputs": [
    {
     "data": {
      "text/plain": [
       "SVC(C=10, gamma=0.1)"
      ]
     },
     "execution_count": 27,
     "metadata": {},
     "output_type": "execute_result"
    }
   ],
   "source": [
    "final_model.fit(training_data, training_target)"
   ]
  },
  {
   "cell_type": "code",
   "execution_count": 28,
   "id": "d14baf45",
   "metadata": {},
   "outputs": [
    {
     "data": {
      "text/plain": [
       "0.9777777777777777"
      ]
     },
     "execution_count": 28,
     "metadata": {},
     "output_type": "execute_result"
    }
   ],
   "source": [
    "final_model.score(test_data, test_target)"
   ]
  }
 ],
 "metadata": {
  "kernelspec": {
   "display_name": "Python 3 (ipykernel)",
   "language": "python",
   "name": "python3"
  },
  "language_info": {
   "codemirror_mode": {
    "name": "ipython",
    "version": 3
   },
   "file_extension": ".py",
   "mimetype": "text/x-python",
   "name": "python",
   "nbconvert_exporter": "python",
   "pygments_lexer": "ipython3",
   "version": "3.7.13"
  }
 },
 "nbformat": 4,
 "nbformat_minor": 5
}
