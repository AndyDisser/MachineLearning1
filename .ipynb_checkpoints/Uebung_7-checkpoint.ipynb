{
 "cells": [
  {
   "cell_type": "markdown",
   "id": "489579f7",
   "metadata": {},
   "source": [
    "## Exercise Sheet 7\n",
    "\n",
    "### Name - Matrikelnummer:\n",
    "1. Pham, Ngoc Anh Trung - 7176267 <br>\n",
    "2. Viktor Vironski - 4330455 <br>\n",
    "3. Andy Disser - 5984875 <br>\n",
    "\n"
   ]
  },
  {
   "cell_type": "code",
   "execution_count": 1,
   "id": "316d2b88",
   "metadata": {},
   "outputs": [],
   "source": [
    "import numpy as np"
   ]
  },
  {
   "cell_type": "code",
   "execution_count": 7,
   "id": "6a6edf9f",
   "metadata": {},
   "outputs": [
    {
     "data": {
      "text/plain": [
       "(150, 3)"
      ]
     },
     "execution_count": 7,
     "metadata": {},
     "output_type": "execute_result"
    }
   ],
   "source": [
    "# load data set\n",
    "data = np.loadtxt(\"./fisher_iris_shuffled.txt\")\n",
    "data.shape"
   ]
  },
  {
   "cell_type": "code",
   "execution_count": 17,
   "id": "0c34d632",
   "metadata": {},
   "outputs": [],
   "source": [
    "# calculate mean\n",
    "mean = np.mean(data, axis=0)\n",
    "\n",
    "# calculate std\n",
    "std = np.std(data, axis=0)\n",
    "# print(std)\n",
    "\n",
    "# center the data (subtract mean)\n",
    "centered = data - mean\n",
    "# print(centered)\n",
    "\n",
    "# standardize (divide by standard deviation)\n",
    "standardized = centered / std\n",
    "# print(standardized)"
   ]
  },
  {
   "cell_type": "code",
   "execution_count": 81,
   "id": "c908eb90",
   "metadata": {},
   "outputs": [
    {
     "data": {
      "text/plain": [
       "array([-1.25529217e-15,  6.03961325e-16, -3.49350178e-16])"
      ]
     },
     "execution_count": 81,
     "metadata": {},
     "output_type": "execute_result"
    }
   ],
   "source": [
    "# that is roughly zero\n",
    "np.mean(centered, axis=0)"
   ]
  },
  {
   "cell_type": "code",
   "execution_count": 82,
   "id": "725bbb49",
   "metadata": {},
   "outputs": [
    {
     "data": {
      "text/plain": [
       "array([[0.24201808, 0.30201062, 0.25278039, ..., 0.27926006, 0.54421718,\n",
       "        0.16610795],\n",
       "       [0.30201062, 0.50252595, 0.30930948, ..., 0.48124799, 0.6828464 ,\n",
       "        0.04635627],\n",
       "       [0.25278039, 0.30930948, 0.26432045, ..., 0.2852002 , 0.56823615,\n",
       "        0.18134715],\n",
       "       ...,\n",
       "       [0.27926006, 0.48124799, 0.2852002 , ..., 0.46251121, 0.63189897,\n",
       "        0.02163278],\n",
       "       [0.54421718, 0.6828464 , 0.56823615, ..., 0.63189897, 1.2238717 ,\n",
       "        0.36874855],\n",
       "       [0.16610795, 0.04635627, 0.18134715, ..., 0.02163278, 0.36874855,\n",
       "        0.32011373]])"
      ]
     },
     "execution_count": 82,
     "metadata": {},
     "output_type": "execute_result"
    }
   ],
   "source": [
    "np.cov(standardized)"
   ]
  },
  {
   "cell_type": "code",
   "execution_count": null,
   "id": "d7b3ca2b",
   "metadata": {},
   "outputs": [],
   "source": []
  },
  {
   "cell_type": "code",
   "execution_count": 40,
   "id": "be953553",
   "metadata": {
    "scrolled": true
   },
   "outputs": [],
   "source": [
    "x = np.array([[4.0, 2.0, 0.6],[4.2, 2.1, 0.59],[3.9, 2.0, 0.58],[4.3, 2.1, 0.62],[4.1, 2.2, 0.63]])"
   ]
  },
  {
   "cell_type": "code",
   "execution_count": 41,
   "id": "4a161c1d",
   "metadata": {
    "scrolled": false
   },
   "outputs": [
    {
     "data": {
      "text/plain": [
       "(5, 3)"
      ]
     },
     "execution_count": 41,
     "metadata": {},
     "output_type": "execute_result"
    }
   ],
   "source": [
    "x.shape"
   ]
  },
  {
   "cell_type": "code",
   "execution_count": 43,
   "id": "79ae486d",
   "metadata": {
    "scrolled": true
   },
   "outputs": [],
   "source": [
    "m = np.mean(x, axis=0)"
   ]
  },
  {
   "cell_type": "code",
   "execution_count": 44,
   "id": "54940c32",
   "metadata": {},
   "outputs": [
    {
     "data": {
      "text/plain": [
       "array([0.14142136, 0.07483315, 0.01854724])"
      ]
     },
     "execution_count": 44,
     "metadata": {},
     "output_type": "execute_result"
    }
   ],
   "source": [
    "s = np.std(x, axis=0)\n",
    "s"
   ]
  },
  {
   "cell_type": "code",
   "execution_count": 46,
   "id": "6e3878b6",
   "metadata": {
    "scrolled": true
   },
   "outputs": [
    {
     "data": {
      "text/plain": [
       "array([[0.025  , 0.0075 , 0.00175],\n",
       "       [0.0075 , 0.007  , 0.00135],\n",
       "       [0.00175, 0.00135, 0.00043]])"
      ]
     },
     "execution_count": 46,
     "metadata": {},
     "output_type": "execute_result"
    }
   ],
   "source": [
    "np.cov(x.T)"
   ]
  },
  {
   "cell_type": "code",
   "execution_count": 52,
   "id": "b1920205",
   "metadata": {
    "scrolled": true
   },
   "outputs": [
    {
     "data": {
      "text/plain": [
       "array([[-0.1  , -0.08 , -0.004],\n",
       "       [ 0.1  ,  0.02 , -0.014],\n",
       "       [-0.2  , -0.08 , -0.024],\n",
       "       [ 0.2  ,  0.02 ,  0.016],\n",
       "       [ 0.   ,  0.12 ,  0.026]])"
      ]
     },
     "execution_count": 52,
     "metadata": {},
     "output_type": "execute_result"
    }
   ],
   "source": [
    "y = x - m\n",
    "y"
   ]
  },
  {
   "cell_type": "code",
   "execution_count": 77,
   "id": "0ac637bb",
   "metadata": {},
   "outputs": [
    {
     "data": {
      "text/plain": [
       "array([0.14142136, 0.07483315, 0.01854724])"
      ]
     },
     "execution_count": 77,
     "metadata": {},
     "output_type": "execute_result"
    }
   ],
   "source": [
    "z = np.std(x, axis=0)\n",
    "z"
   ]
  },
  {
   "cell_type": "code",
   "execution_count": 78,
   "id": "ff24a0a6",
   "metadata": {},
   "outputs": [
    {
     "data": {
      "text/plain": [
       "array([[-0.70710678, -1.06904497, -0.21566555],\n",
       "       [ 0.70710678,  0.26726124, -0.75482941],\n",
       "       [-1.41421356, -1.06904497, -1.29399328],\n",
       "       [ 1.41421356,  0.26726124,  0.86266219],\n",
       "       [ 0.        ,  1.60356745,  1.40182605]])"
      ]
     },
     "execution_count": 78,
     "metadata": {},
     "output_type": "execute_result"
    }
   ],
   "source": [
    "a = np.divide(y,z)\n",
    "a"
   ]
  },
  {
   "cell_type": "code",
   "execution_count": 79,
   "id": "ca7863e8",
   "metadata": {},
   "outputs": [
    {
     "data": {
      "text/plain": [
       "array([[1.25      , 0.70868339, 0.66718125],\n",
       "       [0.70868339, 1.25      , 0.97265883],\n",
       "       [0.66718125, 0.97265883, 1.25      ]])"
      ]
     },
     "execution_count": 79,
     "metadata": {},
     "output_type": "execute_result"
    }
   ],
   "source": [
    "np.cov(a.T)"
   ]
  },
  {
   "cell_type": "code",
   "execution_count": 73,
   "id": "d6721ce6",
   "metadata": {},
   "outputs": [
    {
     "data": {
      "text/plain": [
       "0.007499999999999998"
      ]
     },
     "execution_count": 73,
     "metadata": {},
     "output_type": "execute_result"
    }
   ],
   "source": [
    "np.divide(np.sum(np.multiply(y[:,0],y[:,1])),4)"
   ]
  },
  {
   "cell_type": "code",
   "execution_count": null,
   "id": "b4819892",
   "metadata": {},
   "outputs": [],
   "source": []
  },
  {
   "cell_type": "code",
   "execution_count": null,
   "id": "f64a8328",
   "metadata": {},
   "outputs": [],
   "source": []
  },
  {
   "cell_type": "code",
   "execution_count": 56,
   "id": "e5dcffba",
   "metadata": {},
   "outputs": [
    {
     "data": {
      "text/plain": [
       "(5, 3)"
      ]
     },
     "execution_count": 56,
     "metadata": {},
     "output_type": "execute_result"
    }
   ],
   "source": [
    "y.shape"
   ]
  },
  {
   "cell_type": "code",
   "execution_count": 63,
   "id": "4efa80b9",
   "metadata": {},
   "outputs": [
    {
     "data": {
      "text/plain": [
       "array([-0.1,  0.1, -0.2,  0.2,  0. ])"
      ]
     },
     "execution_count": 63,
     "metadata": {},
     "output_type": "execute_result"
    }
   ],
   "source": [
    "y[:,0]"
   ]
  },
  {
   "cell_type": "code",
   "execution_count": 64,
   "id": "068f49f4",
   "metadata": {},
   "outputs": [
    {
     "data": {
      "text/plain": [
       "array([ 0.01, -0.01,  0.02, -0.02, -0.  ])"
      ]
     },
     "execution_count": 64,
     "metadata": {},
     "output_type": "execute_result"
    }
   ],
   "source": [
    "y[:,0] * -0.1"
   ]
  },
  {
   "cell_type": "code",
   "execution_count": 65,
   "id": "81edad82",
   "metadata": {},
   "outputs": [
    {
     "data": {
      "text/plain": [
       "-1.3183898417423734e-16"
      ]
     },
     "execution_count": 65,
     "metadata": {},
     "output_type": "execute_result"
    }
   ],
   "source": [
    "np.sum(y[:,0]*-0.1)"
   ]
  },
  {
   "cell_type": "code",
   "execution_count": 47,
   "id": "ee0ff56c",
   "metadata": {
    "scrolled": true
   },
   "outputs": [
    {
     "name": "stdout",
     "output_type": "stream",
     "text": [
      "[[ 1.00671141 -0.11010327  0.87760486]\n",
      " [-0.11010327  1.00671141 -0.42333835]\n",
      " [ 0.87760486 -0.42333835  1.00671141]]\n"
     ]
    }
   ],
   "source": [
    "# covariance matrix\n",
    "cov_matr = np.cov(standardized.T)\n",
    "cov_matr.shape\n",
    "print(cov_matr)"
   ]
  },
  {
   "cell_type": "code",
   "execution_count": 18,
   "id": "de239554",
   "metadata": {},
   "outputs": [
    {
     "data": {
      "text/plain": [
       "(3,)"
      ]
     },
     "execution_count": 18,
     "metadata": {},
     "output_type": "execute_result"
    }
   ],
   "source": [
    "mean.shape"
   ]
  },
  {
   "cell_type": "code",
   "execution_count": 19,
   "id": "26690c73",
   "metadata": {},
   "outputs": [
    {
     "data": {
      "text/plain": [
       "array([0.82530129, 0.43214658, 1.75852918])"
      ]
     },
     "execution_count": 19,
     "metadata": {},
     "output_type": "execute_result"
    }
   ],
   "source": [
    "std"
   ]
  }
 ],
 "metadata": {
  "kernelspec": {
   "display_name": "Python 3 (ipykernel)",
   "language": "python",
   "name": "python3"
  },
  "language_info": {
   "codemirror_mode": {
    "name": "ipython",
    "version": 3
   },
   "file_extension": ".py",
   "mimetype": "text/x-python",
   "name": "python",
   "nbconvert_exporter": "python",
   "pygments_lexer": "ipython3",
   "version": "3.10.4"
  }
 },
 "nbformat": 4,
 "nbformat_minor": 5
}
