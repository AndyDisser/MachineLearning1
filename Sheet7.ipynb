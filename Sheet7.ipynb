{
 "cells": [
  {
   "cell_type": "code",
   "execution_count": 1,
   "id": "035a94d8",
   "metadata": {},
   "outputs": [
    {
     "name": "stdout",
     "output_type": "stream",
     "text": [
      "[[ 1.         -0.10936925  0.87175416]\n",
      " [-0.10936925  1.         -0.4205161 ]\n",
      " [ 0.87175416 -0.4205161   1.        ]]\n",
      "Eigenvectors\n",
      " [[-0.63137983  0.64685642  0.42771052]\n",
      " [ 0.35424227 -0.25005463  0.90110216]\n",
      " [-0.6898347  -0.72045087  0.07126444]]\n",
      "Eigenvalues: [2.01382631 0.07134297 0.91483072]\n"
     ]
    }
   ],
   "source": [
    "\"\"\"\n",
    "Name - Matrikelnummer \n",
    "1) Pham, Ngoc Anh Trung - 7176267\n",
    "2) Viktor Vironski - 4330455\n",
    "3) Andy Disser - 5984875\n",
    "\n",
    "Exercise Sheet 7\n",
    "\"\"\"\n",
    "\n",
    "import numpy as np\n",
    "import matplotlib.pyplot as plt\n",
    "\n",
    "# load file\n",
    "data = np.loadtxt('fisher_iris_shuffled.txt')\n",
    "\n",
    "n = data.shape[0]  # number of samples\n",
    "m = data.shape[1]  # number of features\n",
    "\n",
    "# Compute mean and standard deviation\n",
    "means = np.divide(np.apply_over_axes(np.sum, data, 0), n)\n",
    "std = np.sqrt(np.divide(np.apply_over_axes(np.sum, np.power(data-means, 2), 0), n))\n",
    "\n",
    "# Normalize the data\n",
    "normalized_data = np.divide(data-means, std)\n",
    "\n",
    "# Compute covariance matrix\n",
    "cov_matrix = np.divide(np.matmul(np.transpose(normalized_data), normalized_data), n)\n",
    "\n",
    "# Compute eigenvalues and eigenvectors of covariance matrix\n",
    "eigenvalues, eigenvectors = np.linalg.eig(cov_matrix)\n",
    "\n",
    "print(\"Eigenvectors\\n\", eigenvectors)\n",
    "print(\"Eigenvalues:\", eigenvalues)"
   ]
  },
  {
   "cell_type": "markdown",
   "id": "11780699",
   "metadata": {},
   "source": [
    "Answer to the question **\"What can the corresponding eigenvalues tell you about the structure of the data\"** \n",
    "\n",
    "The corresponding eigenvalue of an eigenvector tell the sum of squared distances from the origin to the projections to the (line formed by the eigenvector) of the points. Thus the higher an eigenvalue is, the more greatly the points variate along the line formed by its corresponding eigenvector."
   ]
  },
  {
   "cell_type": "code",
   "execution_count": 40,
   "id": "f4034bdd",
   "metadata": {},
   "outputs": [
    {
     "data": {
      "image/png": "[encoded data removed]",
      "text/plain": [
       "<Figure size 1080x360 with 3 Axes>"
      ]
     },
     "metadata": {
      "needs_background": "light"
     },
     "output_type": "display_data"
    }
   ],
   "source": [
    "# all 3 possible combination of 2 eigenvectors\n",
    "combi = np.array([[0, 1], [1, 2], [0, 2]])\n",
    "\n",
    "# Broadcast to the suitable shapes\n",
    "b_combi = np.broadcast_to(combi[:, np.newaxis, :], (3, 3, 2))\n",
    "b_normdata = np.broadcast_to(normalized_data[np.newaxis, :, :], (3, 150, 3))\n",
    "b_eigenvectors = np.broadcast_to(eigenvectors[np.newaxis, :, :], (3, 3, 3))\n",
    "\n",
    "# an array of shape 3x3x2, each (3x2) subarray represents a subset of eigenvectors of size 2\n",
    "subsets_of_eigenvec = np.take_along_axis(b_eigenvectors, b_combi, axis=2)\n",
    "\n",
    "# all 3 different projections, store in a single array with shape 3x150x2\n",
    "projections = np.matmul(b_normdata, subsets_of_eigenvec)\n",
    "\n",
    "f3, axarr = plt.subplots(1,3, figsize=(15,5))        # Define the plot axes.\n",
    "axarr[0].scatter(projections[0, :, 0], projections[0, :, 1], s=10)      # Define the first plot.\n",
    "axarr[0].set_xlabel(\"PC1\")\n",
    "axarr[0].set_ylabel(\"PC3\")\n",
    "axarr[0].set_title(\"Projection on 1. and 2. eigenvectors\")\n",
    "\n",
    "axarr[1].scatter(projections[1, :, 0], projections[1, :, 1], s=10, color='orange')      # Define the first plot.\n",
    "axarr[1].set_xlabel(\"PC3\")\n",
    "axarr[1].set_ylabel(\"PC2\")\n",
    "axarr[1].set_title(\"Projection on 2. and 3. eigenvectors\")\n",
    "\n",
    "axarr[2].scatter(projections[2, :, 0], projections[2, :, 1], s=10, color='green')      # Define the first plot.\n",
    "axarr[2].set_xlabel(\"PC1\")\n",
    "axarr[2].set_ylabel(\"PC2\")\n",
    "axarr[2].set_title(\"Projection on 1. and 3. eigenvectors\")\n",
    "\n",
    "plt.show()"
   ]
  },
  {
   "cell_type": "markdown",
   "id": "49501007",
   "metadata": {},
   "source": [
    "**Observation:**\n",
    "- We see that the points which initially are in 3D now get flattened in 2D and the distribution of the points is different in each projection\n",
    "- By the third plot, which is the projection on the 2 most important PCs, it captures most of the variation of the points in 3D where as by the second plot, which is the projection on the 2 least important PCs, the points seem to not correlated as much as the third plot and are somewhat randomly distributed\n",
    "\n",
    "**How did the projection transform the data:**\n",
    "\n",
    "- The Projection ignores a principal component (eigenvector) and projects the points onto the plane which goes through the origin and is formed by the 2 other PCs.\n",
    "- For instance in the third plot, where it is a projection on the PC1 and PC2, the PC3 was ignored and all the points were projected onto the plane that was formed by the PC1 and PC2."
   ]
  },
  {
   "cell_type": "code",
   "execution_count": 38,
   "id": "cbfb8676",
   "metadata": {},
   "outputs": [
    {
     "name": "stdout",
     "output_type": "stream",
     "text": [
      "Normalized eigenvalues: [0.67127544 0.02378099 0.30494357]\n",
      "Normalized variances: [0.53699387 0.10107271 0.36193342]\n"
     ]
    }
   ],
   "source": [
    "# Compute normalized eigenvalues.\n",
    "normalized_eigenvalues = np.divide(eigenvalues, np.sum(eigenvalues))\n",
    "\n",
    "# Compute the 3 projections of the data onto 3 PCs.\n",
    "projection_on_PCs = np.matmul(normalized_data, eigenvectors)\n",
    "\n",
    "# Compute their means and variances\n",
    "projection_means = np.divide(np.apply_over_axes(np.sum, projection_on_PCs, 0), n)\n",
    "projection_variances = np.sqrt(np.divide(np.apply_over_axes(np.sum, np.power(projection_on_PCs-projection_means, 2), 0), n))\n",
    "\n",
    "print(\"Normalized eigenvalues:\", normalized_eigenvalues)\n",
    "print(\"Normalized variances:\", np.divide(projection_variances, np.sum(projection_variances)).reshape(3))"
   ]
  },
  {
   "cell_type": "markdown",
   "id": "e7c1489d",
   "metadata": {},
   "source": [
    "- The variances compared to the corresponding eigenvalues are slightly different\n",
    "- However, the normalized variance of PC1 is still the largest variance and the normalized variance of PC3 (the least important, i.e. PC with eigenvalue 0.02378099) is still the smallest variance"
   ]
  },
  {
   "cell_type": "code",
   "execution_count": null,
   "id": "46f30243",
   "metadata": {},
   "outputs": [],
   "source": []
  }
 ],
 "metadata": {
  "kernelspec": {
   "display_name": "Python 3 (ipykernel)",
   "language": "python",
   "name": "python3"
  },
  "language_info": {
   "codemirror_mode": {
    "name": "ipython",
    "version": 3
   },
   "file_extension": ".py",
   "mimetype": "text/x-python",
   "name": "python",
   "nbconvert_exporter": "python",
   "pygments_lexer": "ipython3",
   "version": "3.10.2"
  }
 },
 "nbformat": 4,
 "nbformat_minor": 5
}
