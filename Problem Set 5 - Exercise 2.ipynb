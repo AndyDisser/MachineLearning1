{
 "cells": [
  {
   "cell_type": "markdown",
   "id": "eb998e03",
   "metadata": {},
   "source": [
    "Problem Set 5 - Exercise 2"
   ]
  },
  {
   "cell_type": "code",
   "execution_count": 5,
   "id": "d184f3fe",
   "metadata": {},
   "outputs": [
    {
     "name": "stdout",
     "output_type": "stream",
     "text": [
      "[0.91428571 0.92380952 0.96190476 0.8952381  0.91428571 0.92380952\n",
      " 0.96190476 0.8952381  0.91428571 0.94285714 0.98095238 0.8952381\n",
      " 0.91428571 0.98095238 0.98095238 1.         0.98095238 0.98095238\n",
      " 0.99047619 1.        ]\n",
      "[0.91428571 0.93333333 0.95238095 0.91428571 0.91428571 0.93333333\n",
      " 0.95238095 0.91428571 0.91428571 0.93333333 0.95238095 0.91428571\n",
      " 0.95238095 0.96190476 0.98095238 1.         0.96190476 0.98095238\n",
      " 0.98095238 1.        ]\n",
      "[0.8952381  0.93333333 0.95238095 0.8952381  0.8952381  0.93333333\n",
      " 0.95238095 0.8952381  0.8952381  0.94285714 0.97142857 0.8952381\n",
      " 0.93333333 0.98095238 0.98095238 1.         0.98095238 0.98095238\n",
      " 0.99047619 1.        ]\n",
      "[0.9047619  0.8952381  0.95238095 0.88571429 0.9047619  0.8952381\n",
      " 0.95238095 0.88571429 0.9047619  0.9047619  0.94285714 0.88571429\n",
      " 0.9047619  0.94285714 0.98095238 1.         0.94285714 0.98095238\n",
      " 0.98095238 1.        ]\n",
      "[0.94285714 0.95238095 0.96190476 0.92380952 0.94285714 0.95238095\n",
      " 0.96190476 0.92380952 0.94285714 0.95238095 0.99047619 0.92380952\n",
      " 0.96190476 0.98095238 1.         1.         0.98095238 1.\n",
      " 0.99047619 1.        ]\n",
      "The best parameters are {'C': 10, 'gamma': 0.1} with a score of 0.973\n"
     ]
    }
   ],
   "source": [
    "from sklearn import datasets\n",
    "from sklearn.model_selection import train_test_split\n",
    "from sklearn.svm import SVC\n",
    "from sklearn.model_selection import StratifiedShuffleSplit\n",
    "from sklearn.model_selection import GridSearchCV\n",
    "import numpy as np\n",
    "import matplotlib.pyplot as plt\n",
    "\n",
    "# prevent numpy exponential notation on print \n",
    "np.set_printoptions(suppress=True)\n",
    "\n",
    "#import iris dataset\n",
    "irisdata = datasets.load_iris()\n",
    "x = irisdata.data\n",
    "y = irisdata.target\n",
    "\n",
    "#find the best values for C and gamma with 5-fold cross-validation and grid search\n",
    "#test size and training size is split 0.3 to 0.7\n",
    "C_range = [0.001,0.01,0.1,1,10]\n",
    "gamma_range = [0.01,0.1,1,10]\n",
    "\n",
    "param_grid = dict(gamma=gamma_range, C=C_range)\n",
    "cv = StratifiedShuffleSplit(n_splits=5, test_size=0.3, random_state=42)\n",
    "grid = GridSearchCV(SVC(), param_grid=param_grid, cv=cv, return_train_score=True)\n",
    "grid.fit(x, y)\n",
    "\n",
    "# training_scores\n",
    "print(grid.cv_results_['split0_train_score'])\n",
    "print(grid.cv_results_['split1_train_score'])\n",
    "print(grid.cv_results_['split2_train_score'])\n",
    "print(grid.cv_results_['split3_train_score'])\n",
    "print(grid.cv_results_['split4_train_score'])\n",
    "\n",
    "print(\n",
    "    \"The best parameters are %s with a score of %0.3f\"\n",
    "    % (grid.best_params_, grid.best_score_)\n",
    ")\n",
    "\n",
    "# best values for C and gamma from 5-fold cross-validation and grid search\n",
    "C_best = grid.best_params_['C']\n",
    "gamma_best = grid.best_params_['gamma']\n",
    "\n",
    "\n"
   ]
  },
  {
   "cell_type": "code",
   "execution_count": null,
   "id": "75ebcf84",
   "metadata": {},
   "outputs": [],
   "source": []
  },
  {
   "cell_type": "code",
   "execution_count": null,
   "id": "bd6d0af2",
   "metadata": {},
   "outputs": [],
   "source": []
  }
 ],
 "metadata": {
  "kernelspec": {
   "display_name": "Python 3 (ipykernel)",
   "language": "python",
   "name": "python3"
  },
  "language_info": {
   "codemirror_mode": {
    "name": "ipython",
    "version": 3
   },
   "file_extension": ".py",
   "mimetype": "text/x-python",
   "name": "python",
   "nbconvert_exporter": "python",
   "pygments_lexer": "ipython3",
   "version": "3.9.12"
  }
 },
 "nbformat": 4,
 "nbformat_minor": 5
}
