{
 "cells": [
  {
   "cell_type": "markdown",
   "id": "eb998e03",
   "metadata": {},
   "source": [
    "Problem Set 5 - Exercise 2"
   ]
  },
  {
   "cell_type": "code",
   "execution_count": 11,
   "id": "d184f3fe",
   "metadata": {},
   "outputs": [
    {
     "name": "stdout",
     "output_type": "stream",
     "text": [
      "[0.62765957 0.63829787 0.67021277 0.68085106 0.62765957 0.63829787\n",
      " 0.67021277 0.68085106 0.62765957 0.92553191 0.95744681 0.68085106\n",
      " 0.94680851 0.96808511 0.9787234  1.         0.96808511 0.9787234\n",
      " 0.9893617  1.        ]\n",
      "[0.60638298 0.61702128 0.67021277 0.68085106 0.60638298 0.61702128\n",
      " 0.67021277 0.68085106 0.60638298 0.92553191 0.9787234  0.68085106\n",
      " 0.93617021 0.96808511 0.9787234  1.         0.96808511 0.9787234\n",
      " 1.         1.        ]\n",
      "[0.60638298 0.60638298 0.64893617 0.62765957 0.60638298 0.60638298\n",
      " 0.64893617 0.62765957 0.60638298 0.90425532 0.94680851 0.62765957\n",
      " 0.93617021 0.96808511 0.9787234  1.         0.96808511 0.9787234\n",
      " 0.9787234  1.        ]\n",
      "[0.61702128 0.60638298 0.64893617 0.61702128 0.61702128 0.60638298\n",
      " 0.64893617 0.61702128 0.61702128 0.92553191 0.95744681 0.62765957\n",
      " 0.91489362 0.96808511 0.9893617  1.         0.96808511 0.96808511\n",
      " 0.9787234  1.        ]\n",
      "[0.59574468 0.59574468 0.64893617 0.62765957 0.59574468 0.59574468\n",
      " 0.64893617 0.62765957 0.59574468 0.90425532 0.93617021 0.63829787\n",
      " 0.92553191 0.94680851 0.9787234  1.         0.95744681 0.96808511\n",
      " 0.9787234  1.        ]\n",
      "The best parameters are {'C': 10, 'gamma': 0.1} with a score of 0.945\n"
     ]
    }
   ],
   "source": [
    "from sklearn import datasets\n",
    "from sklearn.model_selection import train_test_split\n",
    "from sklearn.svm import SVC\n",
    "from sklearn.model_selection import StratifiedShuffleSplit\n",
    "from sklearn.model_selection import GridSearchCV\n",
    "import numpy as np\n",
    "import matplotlib.pyplot as plt\n",
    "\n",
    "# prevent numpy exponential notation on print \n",
    "np.set_printoptions(suppress=True)\n",
    "\n",
    "#import iris dataset\n",
    "irisdata = datasets.load_iris()\n",
    "x = irisdata.data\n",
    "y = irisdata.target\n",
    "\n",
    "#split data into training and test data\n",
    "x_train, x_test, y_train, y_test = train_test_split(x, y, test_size=0.3, random_state=42)\n",
    "\n",
    "#find the best values for C and gamma with 5-fold cross-validation and grid search\n",
    "C_range = [0.001,0.01,0.1,1,10]\n",
    "gamma_range = [0.01,0.1,1,10]\n",
    "\n",
    "param_grid = dict(gamma=gamma_range, C=C_range)\n",
    "cv = StratifiedShuffleSplit(n_splits=5, random_state=42)\n",
    "grid = GridSearchCV(SVC(), param_grid=param_grid, cv=cv, return_train_score=True)\n",
    "grid.fit(x_train, y_train)\n",
    "\n",
    "# training_scores\n",
    "print(grid.cv_results_['split0_train_score'])\n",
    "print(grid.cv_results_['split1_train_score'])\n",
    "print(grid.cv_results_['split2_train_score'])\n",
    "print(grid.cv_results_['split3_train_score'])\n",
    "print(grid.cv_results_['split4_train_score'])\n",
    "\n",
    "print(\n",
    "    \"The best parameters are %s with a score of %0.3f\"\n",
    "    % (grid.best_params_, grid.best_score_)\n",
    ")\n",
    "\n",
    "# best values for C and gamma from 5-fold cross-validation and grid search\n",
    "C_best = grid.best_params_['C']\n",
    "gamma_best = grid.best_params_['gamma']\n",
    "\n",
    "\n"
   ]
  },
  {
   "cell_type": "code",
   "execution_count": null,
   "id": "75ebcf84",
   "metadata": {},
   "outputs": [],
   "source": []
  },
  {
   "cell_type": "code",
   "execution_count": null,
   "id": "bd6d0af2",
   "metadata": {},
   "outputs": [],
   "source": []
  }
 ],
 "metadata": {
  "kernelspec": {
   "display_name": "Python 3 (ipykernel)",
   "language": "python",
   "name": "python3"
  },
  "language_info": {
   "codemirror_mode": {
    "name": "ipython",
    "version": 3
   },
   "file_extension": ".py",
   "mimetype": "text/x-python",
   "name": "python",
   "nbconvert_exporter": "python",
   "pygments_lexer": "ipython3",
   "version": "3.9.12"
  }
 },
 "nbformat": 4,
 "nbformat_minor": 5
}
